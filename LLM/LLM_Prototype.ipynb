{
 "cells": [
  {
   "cell_type": "markdown",
   "id": "6751e569-c7f0-4451-87e2-0bbfc1a0303c",
   "metadata": {},
   "source": [
    "### **Download required packages**"
   ]
  },
  {
   "cell_type": "code",
   "execution_count": null,
   "id": "39080990-5a48-4d61-a603-624fce0c68a1",
   "metadata": {},
   "outputs": [],
   "source": [
    "# Core tools\n",
    "!pip install --upgrade pip\n",
    "!pip install langchain langchain-community\n",
    "\n",
    "# PDF loader (PyMuPDF)\n",
    "!pip install pymupdf\n",
    "\n",
    "# Embeddings\n",
    "!pip install sentence-transformers\n",
    "\n",
    "# Vector storage\n",
    "!pip install faiss-cpu\n",
    "\n",
    "# Perplexity support (through langchain_community)\n",
    "!pip install langchain-community\n",
    "\n",
    "# Basic utilities\n",
    "!pip install pandas requests openai\n",
    "\n",
    "!pip install tf-keras\n",
    "\n",
    "!pip install plotly"
   ]
  },
  {
   "cell_type": "markdown",
   "id": "85548848-73d4-4628-88fd-420fd7090b54",
   "metadata": {},
   "source": [
    "### **Set Up**"
   ]
  },
  {
   "cell_type": "code",
   "execution_count": 1,
   "id": "f967e436-b16e-4c92-892e-0c91b926ef04",
   "metadata": {},
   "outputs": [],
   "source": [
    "from langchain.document_loaders import PyMuPDFLoader\n",
    "from langchain.text_splitter import RecursiveCharacterTextSplitter\n",
    "from langchain.embeddings import HuggingFaceEmbeddings\n",
    "from langchain.vectorstores import FAISS\n",
    "from langchain_community.chat_models import ChatPerplexity\n",
    "from langchain.chains import RetrievalQA\n",
    "import os"
   ]
  },
  {
   "cell_type": "code",
   "execution_count": 2,
   "id": "c77ec942-6d59-4c36-82ba-db2ec1980aca",
   "metadata": {},
   "outputs": [],
   "source": [
    "from openai import OpenAI\n",
    "import pandas as pd \n",
    "import os, json, random, re"
   ]
  },
  {
   "cell_type": "markdown",
   "id": "9397e6ea-0b27-4080-ba6a-9d4a716c646d",
   "metadata": {},
   "source": [
    "### **Q&A Model**"
   ]
  },
  {
   "cell_type": "code",
   "execution_count": 3,
   "id": "c02f380c-e248-422f-a34d-b02082828163",
   "metadata": {},
   "outputs": [
    {
     "name": "stdout",
     "output_type": "stream",
     "text": [
      "Folder 'session_1' created.\n"
     ]
    }
   ],
   "source": [
    "#USER INPUT\n",
    "N_QUESTIONS = 1\n",
    "PROJECT_NAME = \"session_1\"\n",
    "INPUT_DIR = \"annual_report\"\n",
    "\n",
    "#CONFIG\n",
    "metadata_dir = os.path.join(PROJECT_NAME, \"metadata.json\")\n",
    "CHUNK_SIZE = 5000\n",
    "CHUNK_OVERLAP = 100\n",
    "N_PAGE_SUMMARY = 3\n",
    "API_KEY = \"\"\n",
    "\n",
    "###### DELETE THIS ON PRODUCTION #########\n",
    "#Remove session folder and everything in it\n",
    "if os.path.exists(PROJECT_NAME) :\n",
    "    import shutil\n",
    "    shutil.rmtree(PROJECT_NAME)\n",
    "    print(f\"Folder '{PROJECT_NAME}' deleted.\")\n",
    "##########################################\n",
    "    \n",
    "#INITIALIZATION\n",
    "client = OpenAI(api_key=API_KEY, base_url=\"https://api.perplexity.ai\")\n",
    "# Create folder if it doesn't already exist\n",
    "CHUNKS_DIR = os.path.join(PROJECT_NAME, \"chunks\")\n",
    "if not os.path.exists(PROJECT_NAME) :\n",
    "    os.makedirs(PROJECT_NAME)\n",
    "    os.makedirs(CHUNKS_DIR)\n",
    "    print(f\"Folder '{PROJECT_NAME}' created.\")\n",
    "else:\n",
    "    print(f\"Folder '{PROJECT_NAME}' already exists.\")"
   ]
  },
  {
   "cell_type": "code",
   "execution_count": 4,
   "id": "c2be0781-d810-4568-a5d3-6881d68cf55f",
   "metadata": {},
   "outputs": [],
   "source": [
    "def summary_extraction(first_n_pages):\n",
    "    response = client.chat.completions.create(\n",
    "    model=\"sonar\",\n",
    "    temperature=0,\n",
    "    messages= [{\n",
    "        \"role\": \"system\",\n",
    "                \"content\": \"\"\"\n",
    "                You are a financial report assistant. \n",
    "                I will provide the first few pages of a financial report, and your task is to give a concise, single-sentence summary answering: \n",
    "                (1) which company the report is about and \n",
    "                (2) what year it covers. \n",
    "                Limit the summary to 50 words, with no extra details or formatting.\n",
    "                \"\"\"\n",
    "    },\n",
    "        {   \n",
    "            \"role\": \"user\",\n",
    "            \"content\":  f\"\"\"\n",
    "            The first few pages {first_n_pages}\n",
    "            Your response: \n",
    "            \"\"\"\n",
    "            \n",
    "        },\n",
    "    ])\n",
    "    return response.choices[0].message.content.strip()\n",
    "\n",
    "\n",
    "def generate_questions(summary, chunk):\n",
    "    response = client.chat.completions.create(\n",
    "        model=\"sonar\",\n",
    "        messages=[{\n",
    "            \"role\": \"system\",\n",
    "            \"content\": \"\"\"\n",
    "            You are a question generator. \n",
    "            I will provide a chunk of information along with its PDF context. \n",
    "            Your task is to generate one question  with the following requirement\n",
    "            (1) The question should based solely on the chunk’s content\n",
    "            (2) The question should include enough context from the summary (company name and year) to make it clear what the question is about.\n",
    "            (3) Do not add any extra information. \n",
    "            (4) If the chunk lacks useful content, respond with an empty string.\n",
    "            \"\"\"\n",
    "        },\n",
    "        {\n",
    "            \"role\": \"user\",\n",
    "            \"content\": f\"\"\"\n",
    "            PDF Summary {summary}. Chunk Text: {chunk}\n",
    "            Your question:\n",
    "            \"\"\"\n",
    "        }],\n",
    "    )\n",
    "    return response.choices[0].message.content.strip()"
   ]
  },
  {
   "cell_type": "code",
   "execution_count": 5,
   "id": "857115ad-742e-4ede-bd74-37008d36062a",
   "metadata": {},
   "outputs": [
    {
     "name": "stdout",
     "output_type": "stream",
     "text": [
      "Processed annual_report/2024-amazon-annual-report-10K.pdf, 47161 words and 112 chunks.\n",
      "Processed annual_report/2024-apple-annual-report-10K.pdf, 57814 words and 134 chunks.\n",
      "Processed annual_report/2024-google-annual-report-10K.pdf, 51919 words and 123 chunks.\n",
      "Processed annual_report/2024-netflix-annual-report-10K.pdf, 36885 words and 105 chunks.\n",
      "Processed annual_report/2024-cisco-full-annual-report.pdf, 71074 words and 175 chunks.\n",
      "Processed annual_report/2024-meta-full-annual-report.pdf, 3107 words and 11 chunks.\n"
     ]
    }
   ],
   "source": [
    "pdf_list = []\n",
    "\n",
    "# Save metadata\n",
    "if os.path.exists(metadata_dir):\n",
    "    with open(metadata_dir, \"r\") as f:\n",
    "        metadata = json.load(f)\n",
    "else:\n",
    "    metadata = []\n",
    "all_filenames = [entry[\"file_name\"] for entry in metadata]\n",
    "\n",
    "# Loop through PDFs\n",
    "for file_name in os.listdir(INPUT_DIR):\n",
    "    if file_name.endswith(\".pdf\") and file_name not in all_filenames:\n",
    "        file_path = os.path.join(INPUT_DIR, file_name)\n",
    "        pdf_list.append(file_path)\n",
    "\n",
    "        # 1) Load\n",
    "        loader = PyMuPDFLoader(file_path)\n",
    "        documents = loader.load()\n",
    "\n",
    "        # 2) Split\n",
    "        splitter = RecursiveCharacterTextSplitter(chunk_size=CHUNK_SIZE, chunk_overlap=CHUNK_OVERLAP)\n",
    "        chunks = splitter.split_documents(documents)\n",
    "\n",
    "        # 3) Summary\n",
    "        first_n_pages = \"\\n\".join([doc.page_content for doc in documents[:N_PAGE_SUMMARY]])\n",
    "        summary = summary_extraction(first_n_pages)\n",
    "        \n",
    "        # Log\n",
    "        word_count = 0\n",
    "        for doc in documents:\n",
    "            word_count += doc.page_content.count(' ') \n",
    "        chunk_count = len(chunks)\n",
    "        print(f\"Processed {file_path}, {word_count} words and {chunk_count} chunks.\")\n",
    "        \n",
    "        # 4) Save metadata\n",
    "        format_name = file_name.split(\".\")[0]\n",
    "        metadata.append({\n",
    "            \"file_name\": file_name,\n",
    "            \"format_name\": format_name,\n",
    "            \"file_path\": file_path,\n",
    "            \"chunk_count\": chunk_count,\n",
    "            \"total_word_count\": word_count,\n",
    "            \"summary\": summary,\n",
    "        })\n",
    "\n",
    "        # 5) Save chunks\n",
    "        chunks_text_list = [chunk.page_content for chunk in chunks]\n",
    "        file_chunks_dir = os.path.join(CHUNKS_DIR, f\"{format_name}.json\")\n",
    "        \n",
    "        # Save all chunks into one JSON file\n",
    "        with open(file_chunks_dir, \"w\") as f:\n",
    "            json.dump(chunks_text_list, f, indent=2)\n",
    "\n",
    "# Save metadata to file\n",
    "with open(metadata_dir, \"w\") as f:\n",
    "    json.dump(metadata, f, indent=2)"
   ]
  },
  {
   "cell_type": "code",
   "execution_count": 6,
   "id": "e65766cf-9260-41a0-a585-5ba73e5ead3f",
   "metadata": {},
   "outputs": [],
   "source": [
    "res = {'file_name': [], \n",
    "       'question': [], \n",
    "       'format_name': [], \n",
    "       'file_path': [], \n",
    "       'summary': [], \n",
    "       'chunk': [], \n",
    "       'chunk_id': []}\n",
    "\n",
    "for data in metadata:\n",
    "    file_name, format_name, file_path, summary = data[\"file_name\"], data[\"format_name\"], data[\"file_path\"], data[\"summary\"]\n",
    "    file_chunks_dir = os.path.join(CHUNKS_DIR, f\"{format_name}.json\")\n",
    "    chunks = json.load(open(file_chunks_dir, \"r\"))\n",
    "    for i in range(N_QUESTIONS):\n",
    "        #Pick a random chunk\n",
    "        chunk_id = random.randint(0, len(chunks) - 1)\n",
    "        chunk = chunks[chunk_id]\n",
    "        question = generate_questions(summary, chunk)\n",
    "        #Save to results\n",
    "        res['file_name'].append(file_name)\n",
    "        res['question'].append(question)\n",
    "        res['format_name'].append(format_name)\n",
    "        res['file_path'].append(file_path)\n",
    "        res['summary'].append(summary)\n",
    "        res['chunk'].append(chunk)\n",
    "        res['chunk_id'].append(chunk_id)\n",
    "res = pd.DataFrame(res)"
   ]
  },
  {
   "cell_type": "code",
   "execution_count": 7,
   "id": "0331f6fe-48c4-46cf-afde-b74ab33a9d15",
   "metadata": {},
   "outputs": [
    {
     "data": {
      "text/html": [
       "<div>\n",
       "<style scoped>\n",
       "    .dataframe tbody tr th:only-of-type {\n",
       "        vertical-align: middle;\n",
       "    }\n",
       "\n",
       "    .dataframe tbody tr th {\n",
       "        vertical-align: top;\n",
       "    }\n",
       "\n",
       "    .dataframe thead th {\n",
       "        text-align: right;\n",
       "    }\n",
       "</style>\n",
       "<table border=\"1\" class=\"dataframe\">\n",
       "  <thead>\n",
       "    <tr style=\"text-align: right;\">\n",
       "      <th></th>\n",
       "      <th>file_name</th>\n",
       "      <th>question</th>\n",
       "      <th>format_name</th>\n",
       "      <th>file_path</th>\n",
       "      <th>summary</th>\n",
       "      <th>chunk</th>\n",
       "      <th>chunk_id</th>\n",
       "    </tr>\n",
       "  </thead>\n",
       "  <tbody>\n",
       "    <tr>\n",
       "      <th>0</th>\n",
       "      <td>2024-amazon-annual-report-10K.pdf</td>\n",
       "      <td>What are the key details about Amazon.com, Inc...</td>\n",
       "      <td>2024-amazon-annual-report-10K</td>\n",
       "      <td>annual_report/2024-amazon-annual-report-10K.pdf</td>\n",
       "      <td>The report is about Amazon.com, Inc. and cover...</td>\n",
       "      <td>Available Information\\nOur investor relations ...</td>\n",
       "      <td>17</td>\n",
       "    </tr>\n",
       "    <tr>\n",
       "      <th>1</th>\n",
       "      <td>2024-apple-annual-report-10K.pdf</td>\n",
       "      <td>Based on the 2024 Apple Inc. report, what are ...</td>\n",
       "      <td>2024-apple-annual-report-10K</td>\n",
       "      <td>annual_report/2024-apple-annual-report-10K.pdf</td>\n",
       "      <td>The report is about Apple Inc. and covers the ...</td>\n",
       "      <td>Discharge, Defeasance and Covenant Defeasance\\...</td>\n",
       "      <td>84</td>\n",
       "    </tr>\n",
       "    <tr>\n",
       "      <th>2</th>\n",
       "      <td>2024-google-annual-report-10K.pdf</td>\n",
       "      <td>Based on Alphabet Inc.'s 2024 Form 10-K annual...</td>\n",
       "      <td>2024-google-annual-report-10K</td>\n",
       "      <td>annual_report/2024-google-annual-report-10K.pdf</td>\n",
       "      <td>The report is the Form 10-K annual report for ...</td>\n",
       "      <td>and app integration. Gemini for Google Workspa...</td>\n",
       "      <td>6</td>\n",
       "    </tr>\n",
       "    <tr>\n",
       "      <th>3</th>\n",
       "      <td>2024-netflix-annual-report-10K.pdf</td>\n",
       "      <td>Based on Netflix, Inc.'s fiscal year ended Dec...</td>\n",
       "      <td>2024-netflix-annual-report-10K</td>\n",
       "      <td>annual_report/2024-netflix-annual-report-10K.pdf</td>\n",
       "      <td>The report is about Netflix, Inc. and covers t...</td>\n",
       "      <td>Table of Contents\\nYear Ended December 31,\\n20...</td>\n",
       "      <td>82</td>\n",
       "    </tr>\n",
       "    <tr>\n",
       "      <th>4</th>\n",
       "      <td>2024-cisco-full-annual-report.pdf</td>\n",
       "      <td>What does Cisco’s pro forma financial informat...</td>\n",
       "      <td>2024-cisco-full-annual-report</td>\n",
       "      <td>annual_report/2024-cisco-full-annual-report.pdf</td>\n",
       "      <td>The report is about Cisco and covers the fisca...</td>\n",
       "      <td>Pro forma Financial Information\\nThe unaudited...</td>\n",
       "      <td>132</td>\n",
       "    </tr>\n",
       "  </tbody>\n",
       "</table>\n",
       "</div>"
      ],
      "text/plain": [
       "                            file_name  \\\n",
       "0   2024-amazon-annual-report-10K.pdf   \n",
       "1    2024-apple-annual-report-10K.pdf   \n",
       "2   2024-google-annual-report-10K.pdf   \n",
       "3  2024-netflix-annual-report-10K.pdf   \n",
       "4   2024-cisco-full-annual-report.pdf   \n",
       "\n",
       "                                            question  \\\n",
       "0  What are the key details about Amazon.com, Inc...   \n",
       "1  Based on the 2024 Apple Inc. report, what are ...   \n",
       "2  Based on Alphabet Inc.'s 2024 Form 10-K annual...   \n",
       "3  Based on Netflix, Inc.'s fiscal year ended Dec...   \n",
       "4  What does Cisco’s pro forma financial informat...   \n",
       "\n",
       "                      format_name  \\\n",
       "0   2024-amazon-annual-report-10K   \n",
       "1    2024-apple-annual-report-10K   \n",
       "2   2024-google-annual-report-10K   \n",
       "3  2024-netflix-annual-report-10K   \n",
       "4   2024-cisco-full-annual-report   \n",
       "\n",
       "                                          file_path  \\\n",
       "0   annual_report/2024-amazon-annual-report-10K.pdf   \n",
       "1    annual_report/2024-apple-annual-report-10K.pdf   \n",
       "2   annual_report/2024-google-annual-report-10K.pdf   \n",
       "3  annual_report/2024-netflix-annual-report-10K.pdf   \n",
       "4   annual_report/2024-cisco-full-annual-report.pdf   \n",
       "\n",
       "                                             summary  \\\n",
       "0  The report is about Amazon.com, Inc. and cover...   \n",
       "1  The report is about Apple Inc. and covers the ...   \n",
       "2  The report is the Form 10-K annual report for ...   \n",
       "3  The report is about Netflix, Inc. and covers t...   \n",
       "4  The report is about Cisco and covers the fisca...   \n",
       "\n",
       "                                               chunk  chunk_id  \n",
       "0  Available Information\\nOur investor relations ...        17  \n",
       "1  Discharge, Defeasance and Covenant Defeasance\\...        84  \n",
       "2  and app integration. Gemini for Google Workspa...         6  \n",
       "3  Table of Contents\\nYear Ended December 31,\\n20...        82  \n",
       "4  Pro forma Financial Information\\nThe unaudited...       132  "
      ]
     },
     "execution_count": 7,
     "metadata": {},
     "output_type": "execute_result"
    }
   ],
   "source": [
    "res.head()"
   ]
  },
  {
   "cell_type": "code",
   "execution_count": 8,
   "id": "3e0c8bfb-86db-44cc-b9cb-be669127b535",
   "metadata": {},
   "outputs": [
    {
     "data": {
      "text/plain": [
       "0    What are the key details about Amazon.com, Inc...\n",
       "1    Based on the 2024 Apple Inc. report, what are ...\n",
       "2    Based on Alphabet Inc.'s 2024 Form 10-K annual...\n",
       "3    Based on Netflix, Inc.'s fiscal year ended Dec...\n",
       "4    What does Cisco’s pro forma financial informat...\n",
       "5    What were the revenue, net income, and income ...\n",
       "Name: question, dtype: object"
      ]
     },
     "execution_count": 8,
     "metadata": {},
     "output_type": "execute_result"
    }
   ],
   "source": [
    "res.to_csv(f\"{PROJECT_NAME}/questions.csv\", index=False)\n",
    "res['question']"
   ]
  },
  {
   "cell_type": "markdown",
   "id": "3324550a-797e-4b92-b88c-d6fb7eba9cdd",
   "metadata": {},
   "source": [
    "#### **Create a dummy testset**"
   ]
  },
  {
   "cell_type": "code",
   "execution_count": 9,
   "id": "73b85efd-671c-4fbb-a983-1fef602f6c5d",
   "metadata": {},
   "outputs": [
    {
     "name": "stdout",
     "output_type": "stream",
     "text": [
      "Loaded 537 total documents.\n",
      "Split into 660 chunks.\n"
     ]
    },
    {
     "name": "stderr",
     "output_type": "stream",
     "text": [
      "/tmp/ipykernel_1895/3828938110.py:28: LangChainDeprecationWarning: The class `HuggingFaceEmbeddings` was deprecated in LangChain 0.2.2 and will be removed in 1.0. An updated version of the class exists in the :class:`~langchain-huggingface package and should be used instead. To use it run `pip install -U :class:`~langchain-huggingface` and import as `from :class:`~langchain_huggingface import HuggingFaceEmbeddings``.\n",
      "  hf = HuggingFaceEmbeddings(\n",
      "2025-08-02 18:08:59.592976: I tensorflow/core/util/port.cc:153] oneDNN custom operations are on. You may see slightly different numerical results due to floating-point round-off errors from different computation orders. To turn them off, set the environment variable `TF_ENABLE_ONEDNN_OPTS=0`.\n",
      "2025-08-02 18:08:59.608121: E external/local_xla/xla/stream_executor/cuda/cuda_fft.cc:467] Unable to register cuFFT factory: Attempting to register factory for plugin cuFFT when one has already been registered\n",
      "WARNING: All log messages before absl::InitializeLog() is called are written to STDERR\n",
      "E0000 00:00:1754176139.622955    1895 cuda_dnn.cc:8579] Unable to register cuDNN factory: Attempting to register factory for plugin cuDNN when one has already been registered\n",
      "E0000 00:00:1754176139.627700    1895 cuda_blas.cc:1407] Unable to register cuBLAS factory: Attempting to register factory for plugin cuBLAS when one has already been registered\n",
      "W0000 00:00:1754176139.641162    1895 computation_placer.cc:177] computation placer already registered. Please check linkage and avoid linking the same target more than once.\n",
      "W0000 00:00:1754176139.641198    1895 computation_placer.cc:177] computation placer already registered. Please check linkage and avoid linking the same target more than once.\n",
      "W0000 00:00:1754176139.641200    1895 computation_placer.cc:177] computation placer already registered. Please check linkage and avoid linking the same target more than once.\n",
      "W0000 00:00:1754176139.641201    1895 computation_placer.cc:177] computation placer already registered. Please check linkage and avoid linking the same target more than once.\n",
      "2025-08-02 18:08:59.646083: I tensorflow/core/platform/cpu_feature_guard.cc:210] This TensorFlow binary is optimized to use available CPU instructions in performance-critical operations.\n",
      "To enable the following instructions: AVX2 AVX_VNNI FMA, in other operations, rebuild TensorFlow with the appropriate compiler flags.\n"
     ]
    },
    {
     "name": "stdout",
     "output_type": "stream",
     "text": [
      "Vector store saved.\n",
      "QA chain is ready.\n"
     ]
    },
    {
     "name": "stderr",
     "output_type": "stream",
     "text": [
      "/tmp/ipykernel_1895/3828938110.py:43: LangChainDeprecationWarning: The class `ChatPerplexity` was deprecated in LangChain 0.3.21 and will be removed in 1.0. An updated version of the class exists in the :class:`~langchain-perplexity package and should be used instead. To use it run `pip install -U :class:`~langchain-perplexity` and import as `from :class:`~langchain_perplexity import ChatPerplexity``.\n",
      "  llm = ChatPerplexity(\n"
     ]
    }
   ],
   "source": [
    "# Settings\n",
    "PDF_FOLDER = \"annual_report\"\n",
    "CHUNK_SIZE = 5000\n",
    "CHUNK_OVERLAP = 500\n",
    "\n",
    "# Load all PDFs\n",
    "all_documents = []\n",
    "for filename in os.listdir(PDF_FOLDER):\n",
    "    if filename.endswith(\".pdf\"):\n",
    "        file_path = os.path.join(PDF_FOLDER, filename)\n",
    "        loader = PyMuPDFLoader(file_path)\n",
    "        documents = loader.load()\n",
    "        all_documents.extend(documents)\n",
    "\n",
    "print(f\"Loaded {len(all_documents)} total documents.\")\n",
    "\n",
    "# Split\n",
    "splitter = RecursiveCharacterTextSplitter(chunk_size=CHUNK_SIZE, chunk_overlap=CHUNK_OVERLAP)\n",
    "chunks = splitter.split_documents(all_documents)\n",
    "\n",
    "print(f\"Split into {len(chunks)} chunks.\")\n",
    "\n",
    "# Embedding\n",
    "model_name = \"sentence-transformers/all-mpnet-base-v2\"\n",
    "model_kwargs = {'device': 'cpu'}\n",
    "encode_kwargs = {'normalize_embeddings': False}  # False = Euclidean, True = Cosine similarity\n",
    "\n",
    "hf = HuggingFaceEmbeddings(\n",
    "    model_name=model_name,\n",
    "    model_kwargs=model_kwargs,\n",
    "    encode_kwargs=encode_kwargs\n",
    ")\n",
    "\n",
    "# Vector Store\n",
    "vector_store = FAISS.from_documents(chunks, hf)\n",
    "vector_store.save_local(\"faiss_index_open\")\n",
    "print(\"Vector store saved.\")\n",
    "\n",
    "# Retriever\n",
    "retriever = vector_store.as_retriever(search_kwargs={\"k\": 3})\n",
    "\n",
    "# LLM setup\n",
    "llm = ChatPerplexity(\n",
    "    model=\"sonar\",\n",
    "    pplx_api_key=\"\",\n",
    "    temperature=0.2\n",
    ")\n",
    "\n",
    "# QA chain\n",
    "qa_chain = RetrievalQA.from_chain_type(\n",
    "    llm=llm,\n",
    "    retriever=retriever,\n",
    "    chain_type=\"stuff\",\n",
    "    return_source_documents=True\n",
    ")\n",
    "\n",
    "print(\"QA chain is ready.\")"
   ]
  },
  {
   "cell_type": "code",
   "execution_count": 10,
   "id": "71d78d7a-9ca3-432d-976c-2f4386d1216c",
   "metadata": {},
   "outputs": [],
   "source": [
    "dummy_test = {'question': [], 'answer': [], 'top_k_chunk': []} #Top 3\n",
    "\n",
    "for question in res['question']:\n",
    "    result = qa_chain.invoke(question)\n",
    "    dummy_test['question'].append(question)\n",
    "    dummy_test['answer'].append(result['result'])\n",
    "    dummy_test['top_k_chunk'].append(result['source_documents'])\n",
    "dummy_test = pd.DataFrame(dummy_test)"
   ]
  },
  {
   "cell_type": "code",
   "execution_count": 11,
   "id": "66e93d4f-ee7a-4432-a166-f4efc123feff",
   "metadata": {},
   "outputs": [
    {
     "data": {
      "text/html": [
       "<div>\n",
       "<style scoped>\n",
       "    .dataframe tbody tr th:only-of-type {\n",
       "        vertical-align: middle;\n",
       "    }\n",
       "\n",
       "    .dataframe tbody tr th {\n",
       "        vertical-align: top;\n",
       "    }\n",
       "\n",
       "    .dataframe thead th {\n",
       "        text-align: right;\n",
       "    }\n",
       "</style>\n",
       "<table border=\"1\" class=\"dataframe\">\n",
       "  <thead>\n",
       "    <tr style=\"text-align: right;\">\n",
       "      <th></th>\n",
       "      <th>question</th>\n",
       "      <th>answer</th>\n",
       "      <th>top_k_chunk</th>\n",
       "    </tr>\n",
       "  </thead>\n",
       "  <tbody>\n",
       "    <tr>\n",
       "      <th>0</th>\n",
       "      <td>What are the key details about Amazon.com, Inc...</td>\n",
       "      <td>Key executive officers of Amazon.com, Inc. for...</td>\n",
       "      <td>[page_content='Available Information\\nOur inve...</td>\n",
       "    </tr>\n",
       "    <tr>\n",
       "      <th>1</th>\n",
       "      <td>Based on the 2024 Apple Inc. report, what are ...</td>\n",
       "      <td>Apple’s legal defeasance and covenant defeasan...</td>\n",
       "      <td>[page_content='DESCRIPTION OF DEBT SECURITIES\\...</td>\n",
       "    </tr>\n",
       "    <tr>\n",
       "      <th>2</th>\n",
       "      <td>Based on Alphabet Inc.'s 2024 Form 10-K annual...</td>\n",
       "      <td>Gemini technology is integrated within Google ...</td>\n",
       "      <td>[page_content='concepts in a format that is us...</td>\n",
       "    </tr>\n",
       "    <tr>\n",
       "      <th>3</th>\n",
       "      <td>Based on Netflix, Inc.'s fiscal year ended Dec...</td>\n",
       "      <td>During 2023 and 2024, Netflix, Inc. significan...</td>\n",
       "      <td>[page_content='Table of Contents\\nNETFLIX, INC...</td>\n",
       "    </tr>\n",
       "    <tr>\n",
       "      <th>4</th>\n",
       "      <td>What does Cisco’s pro forma financial informat...</td>\n",
       "      <td>Cisco’s pro forma financial information for fi...</td>\n",
       "      <td>[page_content='Pro forma Financial Information...</td>\n",
       "    </tr>\n",
       "    <tr>\n",
       "      <th>5</th>\n",
       "      <td>What were the revenue, net income, and income ...</td>\n",
       "      <td>For the fourth quarter ended December 31, 2024...</td>\n",
       "      <td>[page_content='META PLATFORMS, INC.\\nCONDENSED...</td>\n",
       "    </tr>\n",
       "  </tbody>\n",
       "</table>\n",
       "</div>"
      ],
      "text/plain": [
       "                                            question  \\\n",
       "0  What are the key details about Amazon.com, Inc...   \n",
       "1  Based on the 2024 Apple Inc. report, what are ...   \n",
       "2  Based on Alphabet Inc.'s 2024 Form 10-K annual...   \n",
       "3  Based on Netflix, Inc.'s fiscal year ended Dec...   \n",
       "4  What does Cisco’s pro forma financial informat...   \n",
       "5  What were the revenue, net income, and income ...   \n",
       "\n",
       "                                              answer  \\\n",
       "0  Key executive officers of Amazon.com, Inc. for...   \n",
       "1  Apple’s legal defeasance and covenant defeasan...   \n",
       "2  Gemini technology is integrated within Google ...   \n",
       "3  During 2023 and 2024, Netflix, Inc. significan...   \n",
       "4  Cisco’s pro forma financial information for fi...   \n",
       "5  For the fourth quarter ended December 31, 2024...   \n",
       "\n",
       "                                         top_k_chunk  \n",
       "0  [page_content='Available Information\\nOur inve...  \n",
       "1  [page_content='DESCRIPTION OF DEBT SECURITIES\\...  \n",
       "2  [page_content='concepts in a format that is us...  \n",
       "3  [page_content='Table of Contents\\nNETFLIX, INC...  \n",
       "4  [page_content='Pro forma Financial Information...  \n",
       "5  [page_content='META PLATFORMS, INC.\\nCONDENSED...  "
      ]
     },
     "execution_count": 11,
     "metadata": {},
     "output_type": "execute_result"
    }
   ],
   "source": [
    "dummy_test"
   ]
  },
  {
   "cell_type": "code",
   "execution_count": 12,
   "id": "65b74a3e-e6d0-4a36-afba-f06d4a27a174",
   "metadata": {},
   "outputs": [],
   "source": [
    "# Combine ground truth and generated answer\n",
    "combined_df = pd.merge(res, dummy_test, on='question', suffixes=('_ground_truth', '_generated'))"
   ]
  },
  {
   "cell_type": "code",
   "execution_count": 13,
   "id": "368b4f4a-db77-47bf-80a1-48ad8b1f1fe5",
   "metadata": {},
   "outputs": [
    {
     "data": {
      "text/html": [
       "<div>\n",
       "<style scoped>\n",
       "    .dataframe tbody tr th:only-of-type {\n",
       "        vertical-align: middle;\n",
       "    }\n",
       "\n",
       "    .dataframe tbody tr th {\n",
       "        vertical-align: top;\n",
       "    }\n",
       "\n",
       "    .dataframe thead th {\n",
       "        text-align: right;\n",
       "    }\n",
       "</style>\n",
       "<table border=\"1\" class=\"dataframe\">\n",
       "  <thead>\n",
       "    <tr style=\"text-align: right;\">\n",
       "      <th></th>\n",
       "      <th>file_name</th>\n",
       "      <th>question</th>\n",
       "      <th>format_name</th>\n",
       "      <th>file_path</th>\n",
       "      <th>summary</th>\n",
       "      <th>chunk</th>\n",
       "      <th>chunk_id</th>\n",
       "      <th>answer</th>\n",
       "      <th>top_k_chunk</th>\n",
       "    </tr>\n",
       "  </thead>\n",
       "  <tbody>\n",
       "    <tr>\n",
       "      <th>0</th>\n",
       "      <td>2024-amazon-annual-report-10K.pdf</td>\n",
       "      <td>What are the key details about Amazon.com, Inc...</td>\n",
       "      <td>2024-amazon-annual-report-10K</td>\n",
       "      <td>annual_report/2024-amazon-annual-report-10K.pdf</td>\n",
       "      <td>The report is about Amazon.com, Inc. and cover...</td>\n",
       "      <td>Available Information\\nOur investor relations ...</td>\n",
       "      <td>17</td>\n",
       "      <td>Key executive officers of Amazon.com, Inc. for...</td>\n",
       "      <td>[page_content='Available Information\\nOur inve...</td>\n",
       "    </tr>\n",
       "    <tr>\n",
       "      <th>1</th>\n",
       "      <td>2024-apple-annual-report-10K.pdf</td>\n",
       "      <td>Based on the 2024 Apple Inc. report, what are ...</td>\n",
       "      <td>2024-apple-annual-report-10K</td>\n",
       "      <td>annual_report/2024-apple-annual-report-10K.pdf</td>\n",
       "      <td>The report is about Apple Inc. and covers the ...</td>\n",
       "      <td>Discharge, Defeasance and Covenant Defeasance\\...</td>\n",
       "      <td>84</td>\n",
       "      <td>Apple’s legal defeasance and covenant defeasan...</td>\n",
       "      <td>[page_content='DESCRIPTION OF DEBT SECURITIES\\...</td>\n",
       "    </tr>\n",
       "    <tr>\n",
       "      <th>2</th>\n",
       "      <td>2024-google-annual-report-10K.pdf</td>\n",
       "      <td>Based on Alphabet Inc.'s 2024 Form 10-K annual...</td>\n",
       "      <td>2024-google-annual-report-10K</td>\n",
       "      <td>annual_report/2024-google-annual-report-10K.pdf</td>\n",
       "      <td>The report is the Form 10-K annual report for ...</td>\n",
       "      <td>and app integration. Gemini for Google Workspa...</td>\n",
       "      <td>6</td>\n",
       "      <td>Gemini technology is integrated within Google ...</td>\n",
       "      <td>[page_content='concepts in a format that is us...</td>\n",
       "    </tr>\n",
       "    <tr>\n",
       "      <th>3</th>\n",
       "      <td>2024-netflix-annual-report-10K.pdf</td>\n",
       "      <td>Based on Netflix, Inc.'s fiscal year ended Dec...</td>\n",
       "      <td>2024-netflix-annual-report-10K</td>\n",
       "      <td>annual_report/2024-netflix-annual-report-10K.pdf</td>\n",
       "      <td>The report is about Netflix, Inc. and covers t...</td>\n",
       "      <td>Table of Contents\\nYear Ended December 31,\\n20...</td>\n",
       "      <td>82</td>\n",
       "      <td>During 2023 and 2024, Netflix, Inc. significan...</td>\n",
       "      <td>[page_content='Table of Contents\\nNETFLIX, INC...</td>\n",
       "    </tr>\n",
       "    <tr>\n",
       "      <th>4</th>\n",
       "      <td>2024-cisco-full-annual-report.pdf</td>\n",
       "      <td>What does Cisco’s pro forma financial informat...</td>\n",
       "      <td>2024-cisco-full-annual-report</td>\n",
       "      <td>annual_report/2024-cisco-full-annual-report.pdf</td>\n",
       "      <td>The report is about Cisco and covers the fisca...</td>\n",
       "      <td>Pro forma Financial Information\\nThe unaudited...</td>\n",
       "      <td>132</td>\n",
       "      <td>Cisco’s pro forma financial information for fi...</td>\n",
       "      <td>[page_content='Pro forma Financial Information...</td>\n",
       "    </tr>\n",
       "    <tr>\n",
       "      <th>5</th>\n",
       "      <td>2024-meta-full-annual-report.pdf</td>\n",
       "      <td>What were the revenue, net income, and income ...</td>\n",
       "      <td>2024-meta-full-annual-report</td>\n",
       "      <td>annual_report/2024-meta-full-annual-report.pdf</td>\n",
       "      <td>The report is about Meta Platforms, Inc. and c...</td>\n",
       "      <td>META PLATFORMS, INC.\\nCONDENSED CONSOLIDATED S...</td>\n",
       "      <td>5</td>\n",
       "      <td>For the fourth quarter ended December 31, 2024...</td>\n",
       "      <td>[page_content='META PLATFORMS, INC.\\nCONDENSED...</td>\n",
       "    </tr>\n",
       "  </tbody>\n",
       "</table>\n",
       "</div>"
      ],
      "text/plain": [
       "                            file_name  \\\n",
       "0   2024-amazon-annual-report-10K.pdf   \n",
       "1    2024-apple-annual-report-10K.pdf   \n",
       "2   2024-google-annual-report-10K.pdf   \n",
       "3  2024-netflix-annual-report-10K.pdf   \n",
       "4   2024-cisco-full-annual-report.pdf   \n",
       "5    2024-meta-full-annual-report.pdf   \n",
       "\n",
       "                                            question  \\\n",
       "0  What are the key details about Amazon.com, Inc...   \n",
       "1  Based on the 2024 Apple Inc. report, what are ...   \n",
       "2  Based on Alphabet Inc.'s 2024 Form 10-K annual...   \n",
       "3  Based on Netflix, Inc.'s fiscal year ended Dec...   \n",
       "4  What does Cisco’s pro forma financial informat...   \n",
       "5  What were the revenue, net income, and income ...   \n",
       "\n",
       "                      format_name  \\\n",
       "0   2024-amazon-annual-report-10K   \n",
       "1    2024-apple-annual-report-10K   \n",
       "2   2024-google-annual-report-10K   \n",
       "3  2024-netflix-annual-report-10K   \n",
       "4   2024-cisco-full-annual-report   \n",
       "5    2024-meta-full-annual-report   \n",
       "\n",
       "                                          file_path  \\\n",
       "0   annual_report/2024-amazon-annual-report-10K.pdf   \n",
       "1    annual_report/2024-apple-annual-report-10K.pdf   \n",
       "2   annual_report/2024-google-annual-report-10K.pdf   \n",
       "3  annual_report/2024-netflix-annual-report-10K.pdf   \n",
       "4   annual_report/2024-cisco-full-annual-report.pdf   \n",
       "5    annual_report/2024-meta-full-annual-report.pdf   \n",
       "\n",
       "                                             summary  \\\n",
       "0  The report is about Amazon.com, Inc. and cover...   \n",
       "1  The report is about Apple Inc. and covers the ...   \n",
       "2  The report is the Form 10-K annual report for ...   \n",
       "3  The report is about Netflix, Inc. and covers t...   \n",
       "4  The report is about Cisco and covers the fisca...   \n",
       "5  The report is about Meta Platforms, Inc. and c...   \n",
       "\n",
       "                                               chunk  chunk_id  \\\n",
       "0  Available Information\\nOur investor relations ...        17   \n",
       "1  Discharge, Defeasance and Covenant Defeasance\\...        84   \n",
       "2  and app integration. Gemini for Google Workspa...         6   \n",
       "3  Table of Contents\\nYear Ended December 31,\\n20...        82   \n",
       "4  Pro forma Financial Information\\nThe unaudited...       132   \n",
       "5  META PLATFORMS, INC.\\nCONDENSED CONSOLIDATED S...         5   \n",
       "\n",
       "                                              answer  \\\n",
       "0  Key executive officers of Amazon.com, Inc. for...   \n",
       "1  Apple’s legal defeasance and covenant defeasan...   \n",
       "2  Gemini technology is integrated within Google ...   \n",
       "3  During 2023 and 2024, Netflix, Inc. significan...   \n",
       "4  Cisco’s pro forma financial information for fi...   \n",
       "5  For the fourth quarter ended December 31, 2024...   \n",
       "\n",
       "                                         top_k_chunk  \n",
       "0  [page_content='Available Information\\nOur inve...  \n",
       "1  [page_content='DESCRIPTION OF DEBT SECURITIES\\...  \n",
       "2  [page_content='concepts in a format that is us...  \n",
       "3  [page_content='Table of Contents\\nNETFLIX, INC...  \n",
       "4  [page_content='Pro forma Financial Information...  \n",
       "5  [page_content='META PLATFORMS, INC.\\nCONDENSED...  "
      ]
     },
     "execution_count": 13,
     "metadata": {},
     "output_type": "execute_result"
    }
   ],
   "source": [
    "combined_df"
   ]
  },
  {
   "cell_type": "code",
   "execution_count": 14,
   "id": "34a9fda6-9996-451d-982d-d9495557e75a",
   "metadata": {},
   "outputs": [],
   "source": [
    "dummy_test.to_csv(f\"{PROJECT_NAME}/dummy_test.csv\", index=False)"
   ]
  },
  {
   "cell_type": "markdown",
   "id": "2cbf2835-ef42-4f71-ab89-7bfeb6617503",
   "metadata": {},
   "source": [
    "### **Evaluation Process**"
   ]
  },
  {
   "cell_type": "code",
   "execution_count": 15,
   "id": "d58b215c-5474-40ed-a06f-d89267b83f9c",
   "metadata": {},
   "outputs": [],
   "source": [
    "prompt = \"\"\"\n",
    "    You are a financial data Q&A evaluator.\n",
    "\n",
    "    You are given:\n",
    "    - A **question** generated from a document chunk.\n",
    "    - The **document chunk** (ground truth source).\n",
    "    - A **model-generated answer** to the question.\n",
    "\n",
    "    Your job is to score the model’s answer by carefully comparing it to the document chunk.\n",
    "\n",
    "    Use the following rubric for each category:\n",
    "\n",
    "    ---\n",
    "    **Factual Correctness**\n",
    "    - 5 = All facts are fully correct and consistent with the chunk.\n",
    "    - 4 = Minor factual inaccuracies but mostly correct.\n",
    "    - 3 = Some factual inaccuracies, partly correct.\n",
    "    - 2 = Major factual mistakes, mostly incorrect.\n",
    "    - 1 = Completely factually wrong.\n",
    "\n",
    "    ---\n",
    "    **Completeness**\n",
    "    - 5 = Fully answers the question with all key details.\n",
    "    - 4 = Mostly complete, missing minor details.\n",
    "    - 3 = Partially complete, missing important parts.\n",
    "    - 2 = Mostly incomplete, only touches on part of the question.\n",
    "    - 1 = Completely incomplete.\n",
    "\n",
    "    ---\n",
    "    3**Clarity**\n",
    "    - 5 = Clear, precise, and easy to understand.\n",
    "    - 4 = Mostly clear, with minor awkwardness.\n",
    "    - 3 = Understandable but somewhat confusing or vague.\n",
    "    - 2 = Hard to understand or poorly phrased.\n",
    "    - 1 = Completely unclear or nonsensical.\n",
    "\n",
    "    ---\n",
    "    **Response Format**\n",
    "    Return ONLY this JSON (no extra explanation):\n",
    "    {\n",
    "        \"factual_correctness_score\": [1-5],\n",
    "        \"completeness_score\": [1-5],\n",
    "        \"clarity_score\": [1-5],\n",
    "        \"comments\": \"A brief explanation (1-2 sentences) why you assigned these scores.\"\n",
    "    }\n",
    "\"\"\"\n",
    "\n",
    "\n",
    "def evaluate_answer(question, chunk, answer):\n",
    "    response = client.chat.completions.create(\n",
    "        model=\"sonar\",\n",
    "        messages=[\n",
    "            {\"role\": \"system\", \"content\": prompt},\n",
    "            {\n",
    "                \"role\": \"user\",\n",
    "                \"content\": f\"\"\"\n",
    "                Please evaluate the following answer based on the provided question and document chunk. \n",
    "                Return ONLY a valid JSON object.\n",
    "\n",
    "                Question: {question}\n",
    "\n",
    "                Document Chunk: {chunk}\n",
    "\n",
    "                Model Answer: {answer}\n",
    "                \"\"\"\n",
    "            }\n",
    "        ],\n",
    "    )\n",
    "\n",
    "    response_content = response.choices[0].message.content.strip()\n",
    "    print(\"LLM Raw Output:\", response_content)\n",
    "\n",
    "    # Remove duplicate keys by keeping only the last occurrence\n",
    "    cleaned_content = re.sub(\n",
    "        r'(,\\s*\")(\\w+_score)\":\\s*\\d,\\s*\"\\2\":\\s*\\d',\n",
    "        lambda m: f',{m.group(2)}\": {m.group(0).split(\":\")[-1]}',\n",
    "        response_content\n",
    "    )\n",
    "\n",
    "    result = json.loads(cleaned_content)\n",
    "    return result"
   ]
  },
  {
   "cell_type": "code",
   "execution_count": 16,
   "id": "84ab3a53-ed27-4a36-9c1a-e3ad70dbd4fe",
   "metadata": {},
   "outputs": [
    {
     "name": "stdout",
     "output_type": "stream",
     "text": [
      "LLM Raw Output: {\n",
      "  \"factual_correctness_score\": 5,\n",
      "  \"completeness_score\": 5,\n",
      "  \"clarity_score\": 5,\n",
      "  \"comments\": \"The model answer correctly and comprehensively lists all key executive officers and their roles for fiscal year 2024, accurately reflecting details such as ages, positions, tenure, and prior roles exactly as provided in the document chunk. It is clearly written and logically structured.\"\n",
      "}\n",
      "LLM Raw Output: {\n",
      "  \"factual_correctness_score\": 5,\n",
      "  \"completeness_score\": 5,\n",
      "  \"clarity_score\": 5,\n",
      "  \"comments\": \"The answer accurately and fully reflects the conditions and implications of Apple's legal defeasance and covenant defeasance options as described in the document chunk, including the requirement of irrevocable deposits, the effect of defeasance on obligations, the issuance of required counsel opinions, and the specific definitions of 'U.S. government obligations' for various Notes series. It is well-structured and clear without factual errors.\"\n",
      "}\n",
      "LLM Raw Output: {\n",
      "  \"factual_correctness_score\": 5,\n",
      "  \"completeness_score\": 4,\n",
      "  \"clarity_score\": 5,\n",
      "  \"comments\": \"The answer accurately describes Gemini's integration in Google Workspace for enhanced productivity and meetings, its use in YouTube for improved recommendations, and its role in supporting businesses globally through Google Ads with advanced AI-driven tools, aligning well with the document chunk. However, some details such as specific examples like Rivian and Uber and compliance standards like ISO 42001 and HIPAA are not supported by the provided chunk. Overall, it provides a clear and well-structured response but adds some external details not present in the chunk.\"\n",
      "}\n",
      "LLM Raw Output: {\n",
      "  \"factual_correctness_score\": 2,\n",
      "  \"completeness_score\": 2,\n",
      "  \"clarity_score\": 4,\n",
      "  \"comments\": \"The answer contains significant factual inaccuracies and unsupported details compared to the document chunk. The official document states that in September 2023, Netflix authorized $10 billion for repurchases and in December 2024 increased authorization by an additional $15 billion, with $17.1 billion remaining as of December 31, 2024, not $15 billion total or approximately $1.8 billion remaining. The answer incorrectly references a $5 billion authorization in 2021 and uses the $15 billion figure inaccurately. The repurchase amount in 2024 stated in the chunk is $6.211 billion, not $13.2 billion. Thus, the model answer’s figures and timeline are mostly incorrect. It partially responds to the question but misses key correct numbers and confuses authorizations and repurchases. The phrasing is mostly clear but somewhat verbose and contains unnecessary details not supported by the chunk.\"\n",
      "}\n",
      "LLM Raw Output: {\n",
      "  \"factual_correctness_score\": 4,\n",
      "  \"completeness_score\": 4,\n",
      "  \"clarity_score\": 5,\n",
      "  \"comments\": \"The answer accurately summarizes the pro forma financial results, including revenue, net income, and adjustments related to Splunk, as well as the financial treatment of other acquisitions and goodwill details consistent with the document chunk. However, it adds some information about fiscal 2024 revenue dynamics and net loss attributable to Splunk, which are not found in the provided chunk, so a slight deduction in factual correctness is warranted. The answer is otherwise complete and clearly presented.\"\n",
      "}\n",
      "LLM Raw Output: {\n",
      "  \"factual_correctness_score\": 5,\n",
      "  \"completeness_score\": 5,\n",
      "  \"clarity_score\": 5,\n",
      "  \"comments\": \"The model answer correctly reports the revenue, net income, and income from operations for both the fourth quarter and full year ended December 31, 2024, along with accurate percentage changes compared to 2023. The figures match those provided in the document chunk exactly, and the answer is clearly and precisely presented.\"\n",
      "}\n",
      "Saved final results to final.csv\n"
     ]
    }
   ],
   "source": [
    "import pandas as pd\n",
    "\n",
    "# Prepare a list to collect all processed rows\n",
    "final_rows = []\n",
    "\n",
    "for _, row in combined_df.iterrows():\n",
    "    question = row['question']\n",
    "    chunk = row['chunk']\n",
    "    answer = row['answer']\n",
    "\n",
    "    success = False\n",
    "    while not success:\n",
    "        try:\n",
    "            evaluation = evaluate_answer(question, chunk, answer)\n",
    "            success = True  # Break loop if successful\n",
    "        except Exception as e:\n",
    "            print(f\"Retrying for question: {question} due to error: {e}\")\n",
    "\n",
    "    # Build a combined result dictionary\n",
    "    result_row = {\n",
    "        'question': question,\n",
    "        'chunk': chunk,\n",
    "        'answer': answer\n",
    "    }\n",
    "    # Add evaluation results\n",
    "    for key, value in evaluation.items():\n",
    "        result_row[f'evaluation_{key}'] = value\n",
    "\n",
    "    final_rows.append(result_row)\n",
    "\n",
    "# Convert list of results to DataFrame\n",
    "final_df = pd.DataFrame(final_rows)\n",
    "\n",
    "# Save to CSV\n",
    "final_df.to_csv('final.csv', index=False)\n",
    "print(\"Saved final results to final.csv\")\n"
   ]
  },
  {
   "cell_type": "code",
   "execution_count": 17,
   "id": "a501187f-cdb1-454b-aaf1-f06a2100251e",
   "metadata": {},
   "outputs": [
    {
     "data": {
      "text/html": [
       "<div>\n",
       "<style scoped>\n",
       "    .dataframe tbody tr th:only-of-type {\n",
       "        vertical-align: middle;\n",
       "    }\n",
       "\n",
       "    .dataframe tbody tr th {\n",
       "        vertical-align: top;\n",
       "    }\n",
       "\n",
       "    .dataframe thead th {\n",
       "        text-align: right;\n",
       "    }\n",
       "</style>\n",
       "<table border=\"1\" class=\"dataframe\">\n",
       "  <thead>\n",
       "    <tr style=\"text-align: right;\">\n",
       "      <th></th>\n",
       "      <th>question</th>\n",
       "      <th>chunk</th>\n",
       "      <th>answer</th>\n",
       "      <th>evaluation_factual_correctness_score</th>\n",
       "      <th>evaluation_completeness_score</th>\n",
       "      <th>evaluation_clarity_score</th>\n",
       "      <th>evaluation_comments</th>\n",
       "    </tr>\n",
       "  </thead>\n",
       "  <tbody>\n",
       "    <tr>\n",
       "      <th>0</th>\n",
       "      <td>What are the key details about Amazon.com, Inc...</td>\n",
       "      <td>Available Information\\nOur investor relations ...</td>\n",
       "      <td>Key executive officers of Amazon.com, Inc. for...</td>\n",
       "      <td>5</td>\n",
       "      <td>5</td>\n",
       "      <td>5</td>\n",
       "      <td>The model answer correctly and comprehensively...</td>\n",
       "    </tr>\n",
       "    <tr>\n",
       "      <th>1</th>\n",
       "      <td>Based on the 2024 Apple Inc. report, what are ...</td>\n",
       "      <td>Discharge, Defeasance and Covenant Defeasance\\...</td>\n",
       "      <td>Apple’s legal defeasance and covenant defeasan...</td>\n",
       "      <td>5</td>\n",
       "      <td>5</td>\n",
       "      <td>5</td>\n",
       "      <td>The answer accurately and fully reflects the c...</td>\n",
       "    </tr>\n",
       "    <tr>\n",
       "      <th>2</th>\n",
       "      <td>Based on Alphabet Inc.'s 2024 Form 10-K annual...</td>\n",
       "      <td>and app integration. Gemini for Google Workspa...</td>\n",
       "      <td>Gemini technology is integrated within Google ...</td>\n",
       "      <td>5</td>\n",
       "      <td>4</td>\n",
       "      <td>5</td>\n",
       "      <td>The answer accurately describes Gemini's integ...</td>\n",
       "    </tr>\n",
       "    <tr>\n",
       "      <th>3</th>\n",
       "      <td>Based on Netflix, Inc.'s fiscal year ended Dec...</td>\n",
       "      <td>Table of Contents\\nYear Ended December 31,\\n20...</td>\n",
       "      <td>During 2023 and 2024, Netflix, Inc. significan...</td>\n",
       "      <td>2</td>\n",
       "      <td>2</td>\n",
       "      <td>4</td>\n",
       "      <td>The answer contains significant factual inaccu...</td>\n",
       "    </tr>\n",
       "    <tr>\n",
       "      <th>4</th>\n",
       "      <td>What does Cisco’s pro forma financial informat...</td>\n",
       "      <td>Pro forma Financial Information\\nThe unaudited...</td>\n",
       "      <td>Cisco’s pro forma financial information for fi...</td>\n",
       "      <td>4</td>\n",
       "      <td>4</td>\n",
       "      <td>5</td>\n",
       "      <td>The answer accurately summarizes the pro forma...</td>\n",
       "    </tr>\n",
       "  </tbody>\n",
       "</table>\n",
       "</div>"
      ],
      "text/plain": [
       "                                            question  \\\n",
       "0  What are the key details about Amazon.com, Inc...   \n",
       "1  Based on the 2024 Apple Inc. report, what are ...   \n",
       "2  Based on Alphabet Inc.'s 2024 Form 10-K annual...   \n",
       "3  Based on Netflix, Inc.'s fiscal year ended Dec...   \n",
       "4  What does Cisco’s pro forma financial informat...   \n",
       "\n",
       "                                               chunk  \\\n",
       "0  Available Information\\nOur investor relations ...   \n",
       "1  Discharge, Defeasance and Covenant Defeasance\\...   \n",
       "2  and app integration. Gemini for Google Workspa...   \n",
       "3  Table of Contents\\nYear Ended December 31,\\n20...   \n",
       "4  Pro forma Financial Information\\nThe unaudited...   \n",
       "\n",
       "                                              answer  \\\n",
       "0  Key executive officers of Amazon.com, Inc. for...   \n",
       "1  Apple’s legal defeasance and covenant defeasan...   \n",
       "2  Gemini technology is integrated within Google ...   \n",
       "3  During 2023 and 2024, Netflix, Inc. significan...   \n",
       "4  Cisco’s pro forma financial information for fi...   \n",
       "\n",
       "   evaluation_factual_correctness_score  evaluation_completeness_score  \\\n",
       "0                                     5                              5   \n",
       "1                                     5                              5   \n",
       "2                                     5                              4   \n",
       "3                                     2                              2   \n",
       "4                                     4                              4   \n",
       "\n",
       "   evaluation_clarity_score                                evaluation_comments  \n",
       "0                         5  The model answer correctly and comprehensively...  \n",
       "1                         5  The answer accurately and fully reflects the c...  \n",
       "2                         5  The answer accurately describes Gemini's integ...  \n",
       "3                         4  The answer contains significant factual inaccu...  \n",
       "4                         5  The answer accurately summarizes the pro forma...  "
      ]
     },
     "execution_count": 17,
     "metadata": {},
     "output_type": "execute_result"
    }
   ],
   "source": [
    "final_df.head()"
   ]
  },
  {
   "cell_type": "code",
   "execution_count": 18,
   "id": "fcef7e39-7088-49c4-b931-71abb68e92fe",
   "metadata": {},
   "outputs": [
    {
     "data": {
      "application/vnd.plotly.v1+json": {
       "config": {
        "plotlyServerURL": "https://plot.ly"
       },
       "data": [
        {
         "alignmentgroup": "True",
         "boxpoints": "all",
         "customdata": [
          [
           "What are the key details about Amazon.com, Inc.'s executive officers and their roles as reported for the fiscal year 2024?"
          ],
          [
           "Based on the 2024 Apple Inc. report, what are the conditions and implications of Apple’s legal defeasance and covenant defeasance options regarding its Notes, including any specific definitions of “U.S. government obligations” for various Notes series?"
          ],
          [
           "Based on Alphabet Inc.'s 2024 Form 10-K annual report, how is the Gemini technology utilized within Google Workspace and YouTube to enhance user experience, and what role does it play in supporting businesses globally through Google Ads?"
          ],
          [
           "Based on Netflix, Inc.'s fiscal year ended December 31, 2024, how did the company's stock repurchase authorizations and activities evolve during 2023 and 2024, and what is the remaining authorization amount as of December 31, 2024?"
          ],
          [
           "What does Cisco’s pro forma financial information for fiscal year 2024 indicate about the combined results of Cisco and Splunk’s operations, and how were other acquisitions accounted for financially in that year according to Cisco's fiscal 2024 report?"
          ],
          [
           "What were the revenue, net income, and income from operations reported by Meta Platforms, Inc. for the fourth quarter and full year ended December 31, 2024, including the percentage changes compared to 2023?"
          ],
          [
           "What are the key details about Amazon.com, Inc.'s executive officers and their roles as reported for the fiscal year 2024?"
          ],
          [
           "Based on the 2024 Apple Inc. report, what are the conditions and implications of Apple’s legal defeasance and covenant defeasance options regarding its Notes, including any specific definitions of “U.S. government obligations” for various Notes series?"
          ],
          [
           "Based on Alphabet Inc.'s 2024 Form 10-K annual report, how is the Gemini technology utilized within Google Workspace and YouTube to enhance user experience, and what role does it play in supporting businesses globally through Google Ads?"
          ],
          [
           "Based on Netflix, Inc.'s fiscal year ended December 31, 2024, how did the company's stock repurchase authorizations and activities evolve during 2023 and 2024, and what is the remaining authorization amount as of December 31, 2024?"
          ],
          [
           "What does Cisco’s pro forma financial information for fiscal year 2024 indicate about the combined results of Cisco and Splunk’s operations, and how were other acquisitions accounted for financially in that year according to Cisco's fiscal 2024 report?"
          ],
          [
           "What were the revenue, net income, and income from operations reported by Meta Platforms, Inc. for the fourth quarter and full year ended December 31, 2024, including the percentage changes compared to 2023?"
          ],
          [
           "What are the key details about Amazon.com, Inc.'s executive officers and their roles as reported for the fiscal year 2024?"
          ],
          [
           "Based on the 2024 Apple Inc. report, what are the conditions and implications of Apple’s legal defeasance and covenant defeasance options regarding its Notes, including any specific definitions of “U.S. government obligations” for various Notes series?"
          ],
          [
           "Based on Alphabet Inc.'s 2024 Form 10-K annual report, how is the Gemini technology utilized within Google Workspace and YouTube to enhance user experience, and what role does it play in supporting businesses globally through Google Ads?"
          ],
          [
           "Based on Netflix, Inc.'s fiscal year ended December 31, 2024, how did the company's stock repurchase authorizations and activities evolve during 2023 and 2024, and what is the remaining authorization amount as of December 31, 2024?"
          ],
          [
           "What does Cisco’s pro forma financial information for fiscal year 2024 indicate about the combined results of Cisco and Splunk’s operations, and how were other acquisitions accounted for financially in that year according to Cisco's fiscal 2024 report?"
          ],
          [
           "What were the revenue, net income, and income from operations reported by Meta Platforms, Inc. for the fourth quarter and full year ended December 31, 2024, including the percentage changes compared to 2023?"
          ],
          [
           "What are the key details about Amazon.com, Inc.'s executive officers and their roles as reported for the fiscal year 2024?"
          ],
          [
           "Based on the 2024 Apple Inc. report, what are the conditions and implications of Apple’s legal defeasance and covenant defeasance options regarding its Notes, including any specific definitions of “U.S. government obligations” for various Notes series?"
          ],
          [
           "Based on Alphabet Inc.'s 2024 Form 10-K annual report, how is the Gemini technology utilized within Google Workspace and YouTube to enhance user experience, and what role does it play in supporting businesses globally through Google Ads?"
          ],
          [
           "Based on Netflix, Inc.'s fiscal year ended December 31, 2024, how did the company's stock repurchase authorizations and activities evolve during 2023 and 2024, and what is the remaining authorization amount as of December 31, 2024?"
          ],
          [
           "What does Cisco’s pro forma financial information for fiscal year 2024 indicate about the combined results of Cisco and Splunk’s operations, and how were other acquisitions accounted for financially in that year according to Cisco's fiscal 2024 report?"
          ],
          [
           "What were the revenue, net income, and income from operations reported by Meta Platforms, Inc. for the fourth quarter and full year ended December 31, 2024, including the percentage changes compared to 2023?"
          ]
         ],
         "hovertemplate": "Metric=%{x}<br>Score=%{y}<br>question=%{customdata[0]}<extra></extra>",
         "legendgroup": "",
         "marker": {
          "color": "#636efa"
         },
         "name": "",
         "notched": false,
         "offsetgroup": "",
         "orientation": "v",
         "showlegend": false,
         "type": "box",
         "x": [
          "Factual Correctness",
          "Factual Correctness",
          "Factual Correctness",
          "Factual Correctness",
          "Factual Correctness",
          "Factual Correctness",
          "Completeness",
          "Completeness",
          "Completeness",
          "Completeness",
          "Completeness",
          "Completeness",
          "Clarity",
          "Clarity",
          "Clarity",
          "Clarity",
          "Clarity",
          "Clarity",
          "Overall",
          "Overall",
          "Overall",
          "Overall",
          "Overall",
          "Overall"
         ],
         "x0": " ",
         "xaxis": "x",
         "y": {
          "bdata": "AAAAAAAAFEAAAAAAAAAUQAAAAAAAABRAAAAAAAAAAEAAAAAAAAAQQAAAAAAAABRAAAAAAAAAFEAAAAAAAAAUQAAAAAAAABBAAAAAAAAAAEAAAAAAAAAQQAAAAAAAABRAAAAAAAAAFEAAAAAAAAAUQAAAAAAAABRAAAAAAAAAEEAAAAAAAAAUQAAAAAAAABRAAAAAAAAAFEAAAAAAAAAUQKuqqqqqqhJAVVVVVVVVBUBVVVVVVVURQAAAAAAAABRA",
          "dtype": "f8"
         },
         "y0": " ",
         "yaxis": "y"
        }
       ],
       "layout": {
        "boxmode": "group",
        "height": 500,
        "legend": {
         "tracegroupgap": 0
        },
        "template": {
         "data": {
          "bar": [
           {
            "error_x": {
             "color": "#2a3f5f"
            },
            "error_y": {
             "color": "#2a3f5f"
            },
            "marker": {
             "line": {
              "color": "#E5ECF6",
              "width": 0.5
             },
             "pattern": {
              "fillmode": "overlay",
              "size": 10,
              "solidity": 0.2
             }
            },
            "type": "bar"
           }
          ],
          "barpolar": [
           {
            "marker": {
             "line": {
              "color": "#E5ECF6",
              "width": 0.5
             },
             "pattern": {
              "fillmode": "overlay",
              "size": 10,
              "solidity": 0.2
             }
            },
            "type": "barpolar"
           }
          ],
          "carpet": [
           {
            "aaxis": {
             "endlinecolor": "#2a3f5f",
             "gridcolor": "white",
             "linecolor": "white",
             "minorgridcolor": "white",
             "startlinecolor": "#2a3f5f"
            },
            "baxis": {
             "endlinecolor": "#2a3f5f",
             "gridcolor": "white",
             "linecolor": "white",
             "minorgridcolor": "white",
             "startlinecolor": "#2a3f5f"
            },
            "type": "carpet"
           }
          ],
          "choropleth": [
           {
            "colorbar": {
             "outlinewidth": 0,
             "ticks": ""
            },
            "type": "choropleth"
           }
          ],
          "contour": [
           {
            "colorbar": {
             "outlinewidth": 0,
             "ticks": ""
            },
            "colorscale": [
             [
              0,
              "#0d0887"
             ],
             [
              0.1111111111111111,
              "#46039f"
             ],
             [
              0.2222222222222222,
              "#7201a8"
             ],
             [
              0.3333333333333333,
              "#9c179e"
             ],
             [
              0.4444444444444444,
              "#bd3786"
             ],
             [
              0.5555555555555556,
              "#d8576b"
             ],
             [
              0.6666666666666666,
              "#ed7953"
             ],
             [
              0.7777777777777778,
              "#fb9f3a"
             ],
             [
              0.8888888888888888,
              "#fdca26"
             ],
             [
              1,
              "#f0f921"
             ]
            ],
            "type": "contour"
           }
          ],
          "contourcarpet": [
           {
            "colorbar": {
             "outlinewidth": 0,
             "ticks": ""
            },
            "type": "contourcarpet"
           }
          ],
          "heatmap": [
           {
            "colorbar": {
             "outlinewidth": 0,
             "ticks": ""
            },
            "colorscale": [
             [
              0,
              "#0d0887"
             ],
             [
              0.1111111111111111,
              "#46039f"
             ],
             [
              0.2222222222222222,
              "#7201a8"
             ],
             [
              0.3333333333333333,
              "#9c179e"
             ],
             [
              0.4444444444444444,
              "#bd3786"
             ],
             [
              0.5555555555555556,
              "#d8576b"
             ],
             [
              0.6666666666666666,
              "#ed7953"
             ],
             [
              0.7777777777777778,
              "#fb9f3a"
             ],
             [
              0.8888888888888888,
              "#fdca26"
             ],
             [
              1,
              "#f0f921"
             ]
            ],
            "type": "heatmap"
           }
          ],
          "histogram": [
           {
            "marker": {
             "pattern": {
              "fillmode": "overlay",
              "size": 10,
              "solidity": 0.2
             }
            },
            "type": "histogram"
           }
          ],
          "histogram2d": [
           {
            "colorbar": {
             "outlinewidth": 0,
             "ticks": ""
            },
            "colorscale": [
             [
              0,
              "#0d0887"
             ],
             [
              0.1111111111111111,
              "#46039f"
             ],
             [
              0.2222222222222222,
              "#7201a8"
             ],
             [
              0.3333333333333333,
              "#9c179e"
             ],
             [
              0.4444444444444444,
              "#bd3786"
             ],
             [
              0.5555555555555556,
              "#d8576b"
             ],
             [
              0.6666666666666666,
              "#ed7953"
             ],
             [
              0.7777777777777778,
              "#fb9f3a"
             ],
             [
              0.8888888888888888,
              "#fdca26"
             ],
             [
              1,
              "#f0f921"
             ]
            ],
            "type": "histogram2d"
           }
          ],
          "histogram2dcontour": [
           {
            "colorbar": {
             "outlinewidth": 0,
             "ticks": ""
            },
            "colorscale": [
             [
              0,
              "#0d0887"
             ],
             [
              0.1111111111111111,
              "#46039f"
             ],
             [
              0.2222222222222222,
              "#7201a8"
             ],
             [
              0.3333333333333333,
              "#9c179e"
             ],
             [
              0.4444444444444444,
              "#bd3786"
             ],
             [
              0.5555555555555556,
              "#d8576b"
             ],
             [
              0.6666666666666666,
              "#ed7953"
             ],
             [
              0.7777777777777778,
              "#fb9f3a"
             ],
             [
              0.8888888888888888,
              "#fdca26"
             ],
             [
              1,
              "#f0f921"
             ]
            ],
            "type": "histogram2dcontour"
           }
          ],
          "mesh3d": [
           {
            "colorbar": {
             "outlinewidth": 0,
             "ticks": ""
            },
            "type": "mesh3d"
           }
          ],
          "parcoords": [
           {
            "line": {
             "colorbar": {
              "outlinewidth": 0,
              "ticks": ""
             }
            },
            "type": "parcoords"
           }
          ],
          "pie": [
           {
            "automargin": true,
            "type": "pie"
           }
          ],
          "scatter": [
           {
            "fillpattern": {
             "fillmode": "overlay",
             "size": 10,
             "solidity": 0.2
            },
            "type": "scatter"
           }
          ],
          "scatter3d": [
           {
            "line": {
             "colorbar": {
              "outlinewidth": 0,
              "ticks": ""
             }
            },
            "marker": {
             "colorbar": {
              "outlinewidth": 0,
              "ticks": ""
             }
            },
            "type": "scatter3d"
           }
          ],
          "scattercarpet": [
           {
            "marker": {
             "colorbar": {
              "outlinewidth": 0,
              "ticks": ""
             }
            },
            "type": "scattercarpet"
           }
          ],
          "scattergeo": [
           {
            "marker": {
             "colorbar": {
              "outlinewidth": 0,
              "ticks": ""
             }
            },
            "type": "scattergeo"
           }
          ],
          "scattergl": [
           {
            "marker": {
             "colorbar": {
              "outlinewidth": 0,
              "ticks": ""
             }
            },
            "type": "scattergl"
           }
          ],
          "scattermap": [
           {
            "marker": {
             "colorbar": {
              "outlinewidth": 0,
              "ticks": ""
             }
            },
            "type": "scattermap"
           }
          ],
          "scattermapbox": [
           {
            "marker": {
             "colorbar": {
              "outlinewidth": 0,
              "ticks": ""
             }
            },
            "type": "scattermapbox"
           }
          ],
          "scatterpolar": [
           {
            "marker": {
             "colorbar": {
              "outlinewidth": 0,
              "ticks": ""
             }
            },
            "type": "scatterpolar"
           }
          ],
          "scatterpolargl": [
           {
            "marker": {
             "colorbar": {
              "outlinewidth": 0,
              "ticks": ""
             }
            },
            "type": "scatterpolargl"
           }
          ],
          "scatterternary": [
           {
            "marker": {
             "colorbar": {
              "outlinewidth": 0,
              "ticks": ""
             }
            },
            "type": "scatterternary"
           }
          ],
          "surface": [
           {
            "colorbar": {
             "outlinewidth": 0,
             "ticks": ""
            },
            "colorscale": [
             [
              0,
              "#0d0887"
             ],
             [
              0.1111111111111111,
              "#46039f"
             ],
             [
              0.2222222222222222,
              "#7201a8"
             ],
             [
              0.3333333333333333,
              "#9c179e"
             ],
             [
              0.4444444444444444,
              "#bd3786"
             ],
             [
              0.5555555555555556,
              "#d8576b"
             ],
             [
              0.6666666666666666,
              "#ed7953"
             ],
             [
              0.7777777777777778,
              "#fb9f3a"
             ],
             [
              0.8888888888888888,
              "#fdca26"
             ],
             [
              1,
              "#f0f921"
             ]
            ],
            "type": "surface"
           }
          ],
          "table": [
           {
            "cells": {
             "fill": {
              "color": "#EBF0F8"
             },
             "line": {
              "color": "white"
             }
            },
            "header": {
             "fill": {
              "color": "#C8D4E3"
             },
             "line": {
              "color": "white"
             }
            },
            "type": "table"
           }
          ]
         },
         "layout": {
          "annotationdefaults": {
           "arrowcolor": "#2a3f5f",
           "arrowhead": 0,
           "arrowwidth": 1
          },
          "autotypenumbers": "strict",
          "coloraxis": {
           "colorbar": {
            "outlinewidth": 0,
            "ticks": ""
           }
          },
          "colorscale": {
           "diverging": [
            [
             0,
             "#8e0152"
            ],
            [
             0.1,
             "#c51b7d"
            ],
            [
             0.2,
             "#de77ae"
            ],
            [
             0.3,
             "#f1b6da"
            ],
            [
             0.4,
             "#fde0ef"
            ],
            [
             0.5,
             "#f7f7f7"
            ],
            [
             0.6,
             "#e6f5d0"
            ],
            [
             0.7,
             "#b8e186"
            ],
            [
             0.8,
             "#7fbc41"
            ],
            [
             0.9,
             "#4d9221"
            ],
            [
             1,
             "#276419"
            ]
           ],
           "sequential": [
            [
             0,
             "#0d0887"
            ],
            [
             0.1111111111111111,
             "#46039f"
            ],
            [
             0.2222222222222222,
             "#7201a8"
            ],
            [
             0.3333333333333333,
             "#9c179e"
            ],
            [
             0.4444444444444444,
             "#bd3786"
            ],
            [
             0.5555555555555556,
             "#d8576b"
            ],
            [
             0.6666666666666666,
             "#ed7953"
            ],
            [
             0.7777777777777778,
             "#fb9f3a"
            ],
            [
             0.8888888888888888,
             "#fdca26"
            ],
            [
             1,
             "#f0f921"
            ]
           ],
           "sequentialminus": [
            [
             0,
             "#0d0887"
            ],
            [
             0.1111111111111111,
             "#46039f"
            ],
            [
             0.2222222222222222,
             "#7201a8"
            ],
            [
             0.3333333333333333,
             "#9c179e"
            ],
            [
             0.4444444444444444,
             "#bd3786"
            ],
            [
             0.5555555555555556,
             "#d8576b"
            ],
            [
             0.6666666666666666,
             "#ed7953"
            ],
            [
             0.7777777777777778,
             "#fb9f3a"
            ],
            [
             0.8888888888888888,
             "#fdca26"
            ],
            [
             1,
             "#f0f921"
            ]
           ]
          },
          "colorway": [
           "#636efa",
           "#EF553B",
           "#00cc96",
           "#ab63fa",
           "#FFA15A",
           "#19d3f3",
           "#FF6692",
           "#B6E880",
           "#FF97FF",
           "#FECB52"
          ],
          "font": {
           "color": "#2a3f5f"
          },
          "geo": {
           "bgcolor": "white",
           "lakecolor": "white",
           "landcolor": "#E5ECF6",
           "showlakes": true,
           "showland": true,
           "subunitcolor": "white"
          },
          "hoverlabel": {
           "align": "left"
          },
          "hovermode": "closest",
          "mapbox": {
           "style": "light"
          },
          "paper_bgcolor": "white",
          "plot_bgcolor": "#E5ECF6",
          "polar": {
           "angularaxis": {
            "gridcolor": "white",
            "linecolor": "white",
            "ticks": ""
           },
           "bgcolor": "#E5ECF6",
           "radialaxis": {
            "gridcolor": "white",
            "linecolor": "white",
            "ticks": ""
           }
          },
          "scene": {
           "xaxis": {
            "backgroundcolor": "#E5ECF6",
            "gridcolor": "white",
            "gridwidth": 2,
            "linecolor": "white",
            "showbackground": true,
            "ticks": "",
            "zerolinecolor": "white"
           },
           "yaxis": {
            "backgroundcolor": "#E5ECF6",
            "gridcolor": "white",
            "gridwidth": 2,
            "linecolor": "white",
            "showbackground": true,
            "ticks": "",
            "zerolinecolor": "white"
           },
           "zaxis": {
            "backgroundcolor": "#E5ECF6",
            "gridcolor": "white",
            "gridwidth": 2,
            "linecolor": "white",
            "showbackground": true,
            "ticks": "",
            "zerolinecolor": "white"
           }
          },
          "shapedefaults": {
           "line": {
            "color": "#2a3f5f"
           }
          },
          "ternary": {
           "aaxis": {
            "gridcolor": "white",
            "linecolor": "white",
            "ticks": ""
           },
           "baxis": {
            "gridcolor": "white",
            "linecolor": "white",
            "ticks": ""
           },
           "bgcolor": "#E5ECF6",
           "caxis": {
            "gridcolor": "white",
            "linecolor": "white",
            "ticks": ""
           }
          },
          "title": {
           "x": 0.05
          },
          "xaxis": {
           "automargin": true,
           "gridcolor": "white",
           "linecolor": "white",
           "ticks": "",
           "title": {
            "standoff": 15
           },
           "zerolinecolor": "white",
           "zerolinewidth": 2
          },
          "yaxis": {
           "automargin": true,
           "gridcolor": "white",
           "linecolor": "white",
           "ticks": "",
           "title": {
            "standoff": 15
           },
           "zerolinecolor": "white",
           "zerolinewidth": 2
          }
         }
        },
        "title": {
         "text": "Score Distributions per Metric (with Overall Score)"
        },
        "xaxis": {
         "anchor": "y",
         "domain": [
          0,
          1
         ],
         "title": {
          "text": "Metric"
         }
        },
        "yaxis": {
         "anchor": "x",
         "domain": [
          0,
          1
         ],
         "dtick": 1,
         "range": [
          0,
          6
         ],
         "title": {
          "text": "Score (1-5)"
         }
        }
       }
      }
     },
     "metadata": {},
     "output_type": "display_data"
    }
   ],
   "source": [
    "import plotly.express as px\n",
    "import pandas as pd\n",
    "\n",
    "# Make sure relevant columns are numeric\n",
    "numeric_cols = [\n",
    "    'evaluation_factual_correctness_score', \n",
    "    'evaluation_completeness_score', \n",
    "    'evaluation_clarity_score'\n",
    "]\n",
    "\n",
    "df = final_df.copy()\n",
    "for col in numeric_cols:\n",
    "    df[col] = pd.to_numeric(df[col], errors='coerce')  # convert invalid to NaN\n",
    "\n",
    "# Calculate overall average score per question\n",
    "df['overall_score'] = df[numeric_cols].mean(axis=1)\n",
    "\n",
    "# Melt DataFrame to long format (including overall score)\n",
    "melted_df = df.melt(\n",
    "    id_vars=['question'],\n",
    "    value_vars=numeric_cols + ['overall_score'],\n",
    "    var_name='Metric',\n",
    "    value_name='Score'\n",
    ")\n",
    "\n",
    "# Clean up metric names for display\n",
    "melted_df['Metric'] = (\n",
    "    melted_df['Metric']\n",
    "    .str.replace('evaluation_', '', regex=False)\n",
    "    .str.replace('_score', '', regex=False)\n",
    "    .str.replace('_', ' ')\n",
    "    .str.title()\n",
    ")\n",
    "\n",
    "# Drop rows with missing scores (optional, if needed)\n",
    "melted_df = melted_df.dropna(subset=['Score'])\n",
    "\n",
    "# Plot boxplot\n",
    "fig = px.box(\n",
    "    melted_df,\n",
    "    x='Metric',\n",
    "    y='Score',\n",
    "    points='all',  # show individual points\n",
    "    hover_data=['question'],\n",
    "    title='Score Distributions per Metric (with Overall Score)',\n",
    "    height=500\n",
    ")\n",
    "\n",
    "fig.update_layout(\n",
    "    yaxis=dict(range=[0, 6], dtick=1),\n",
    "    xaxis_title='Metric',\n",
    "    yaxis_title='Score (1-5)'\n",
    ")\n",
    "\n",
    "fig.show()"
   ]
  },
  {
   "cell_type": "code",
   "execution_count": 19,
   "id": "d1673133-04dc-4039-9270-30865d1fb38c",
   "metadata": {},
   "outputs": [
    {
     "data": {
      "application/vnd.plotly.v1+json": {
       "config": {
        "plotlyServerURL": "https://plot.ly"
       },
       "data": [
        {
         "colorscale": [
          [
           0,
           "rgb(247,251,255)"
          ],
          [
           0.125,
           "rgb(222,235,247)"
          ],
          [
           0.25,
           "rgb(198,219,239)"
          ],
          [
           0.375,
           "rgb(158,202,225)"
          ],
          [
           0.5,
           "rgb(107,174,214)"
          ],
          [
           0.625,
           "rgb(66,146,198)"
          ],
          [
           0.75,
           "rgb(33,113,181)"
          ],
          [
           0.875,
           "rgb(8,81,156)"
          ],
          [
           1,
           "rgb(8,48,107)"
          ]
         ],
         "reversescale": false,
         "showscale": true,
         "type": "heatmap",
         "x": [
          "evaluation_factual_correctness_score",
          "evaluation_completeness_score",
          "evaluation_clarity_score",
          "overall_score"
         ],
         "y": [
          "evaluation_factual_correctness_score",
          "evaluation_completeness_score",
          "evaluation_clarity_score",
          "overall_score"
         ],
         "z": {
          "bdata": "AAAAAAAA8D8UrkfhehTuPxSuR+F6FO4/rkfhehSu7z8UrkfhehTuPwAAAAAAAPA/H4XrUbge7T9cj8L1KFzvPxSuR+F6FO4/H4XrUbge7T8AAAAAAADwP7gehetRuO4/rkfhehSu7z9cj8L1KFzvP7gehetRuO4/AAAAAAAA8D8=",
          "dtype": "f8",
          "shape": "4, 4"
         }
        }
       ],
       "layout": {
        "annotations": [
         {
          "font": {
           "color": "#FFFFFF"
          },
          "showarrow": false,
          "text": "1.0",
          "x": "evaluation_factual_correctness_score",
          "xref": "x",
          "y": "evaluation_factual_correctness_score",
          "yref": "y"
         },
         {
          "font": {
           "color": "#000000"
          },
          "showarrow": false,
          "text": "0.94",
          "x": "evaluation_completeness_score",
          "xref": "x",
          "y": "evaluation_factual_correctness_score",
          "yref": "y"
         },
         {
          "font": {
           "color": "#000000"
          },
          "showarrow": false,
          "text": "0.94",
          "x": "evaluation_clarity_score",
          "xref": "x",
          "y": "evaluation_factual_correctness_score",
          "yref": "y"
         },
         {
          "font": {
           "color": "#FFFFFF"
          },
          "showarrow": false,
          "text": "0.99",
          "x": "overall_score",
          "xref": "x",
          "y": "evaluation_factual_correctness_score",
          "yref": "y"
         },
         {
          "font": {
           "color": "#000000"
          },
          "showarrow": false,
          "text": "0.94",
          "x": "evaluation_factual_correctness_score",
          "xref": "x",
          "y": "evaluation_completeness_score",
          "yref": "y"
         },
         {
          "font": {
           "color": "#FFFFFF"
          },
          "showarrow": false,
          "text": "1.0",
          "x": "evaluation_completeness_score",
          "xref": "x",
          "y": "evaluation_completeness_score",
          "yref": "y"
         },
         {
          "font": {
           "color": "#000000"
          },
          "showarrow": false,
          "text": "0.91",
          "x": "evaluation_clarity_score",
          "xref": "x",
          "y": "evaluation_completeness_score",
          "yref": "y"
         },
         {
          "font": {
           "color": "#FFFFFF"
          },
          "showarrow": false,
          "text": "0.98",
          "x": "overall_score",
          "xref": "x",
          "y": "evaluation_completeness_score",
          "yref": "y"
         },
         {
          "font": {
           "color": "#000000"
          },
          "showarrow": false,
          "text": "0.94",
          "x": "evaluation_factual_correctness_score",
          "xref": "x",
          "y": "evaluation_clarity_score",
          "yref": "y"
         },
         {
          "font": {
           "color": "#000000"
          },
          "showarrow": false,
          "text": "0.91",
          "x": "evaluation_completeness_score",
          "xref": "x",
          "y": "evaluation_clarity_score",
          "yref": "y"
         },
         {
          "font": {
           "color": "#FFFFFF"
          },
          "showarrow": false,
          "text": "1.0",
          "x": "evaluation_clarity_score",
          "xref": "x",
          "y": "evaluation_clarity_score",
          "yref": "y"
         },
         {
          "font": {
           "color": "#FFFFFF"
          },
          "showarrow": false,
          "text": "0.96",
          "x": "overall_score",
          "xref": "x",
          "y": "evaluation_clarity_score",
          "yref": "y"
         },
         {
          "font": {
           "color": "#FFFFFF"
          },
          "showarrow": false,
          "text": "0.99",
          "x": "evaluation_factual_correctness_score",
          "xref": "x",
          "y": "overall_score",
          "yref": "y"
         },
         {
          "font": {
           "color": "#FFFFFF"
          },
          "showarrow": false,
          "text": "0.98",
          "x": "evaluation_completeness_score",
          "xref": "x",
          "y": "overall_score",
          "yref": "y"
         },
         {
          "font": {
           "color": "#FFFFFF"
          },
          "showarrow": false,
          "text": "0.96",
          "x": "evaluation_clarity_score",
          "xref": "x",
          "y": "overall_score",
          "yref": "y"
         },
         {
          "font": {
           "color": "#FFFFFF"
          },
          "showarrow": false,
          "text": "1.0",
          "x": "overall_score",
          "xref": "x",
          "y": "overall_score",
          "yref": "y"
         }
        ],
        "height": 600,
        "template": {
         "data": {
          "bar": [
           {
            "error_x": {
             "color": "#2a3f5f"
            },
            "error_y": {
             "color": "#2a3f5f"
            },
            "marker": {
             "line": {
              "color": "#E5ECF6",
              "width": 0.5
             },
             "pattern": {
              "fillmode": "overlay",
              "size": 10,
              "solidity": 0.2
             }
            },
            "type": "bar"
           }
          ],
          "barpolar": [
           {
            "marker": {
             "line": {
              "color": "#E5ECF6",
              "width": 0.5
             },
             "pattern": {
              "fillmode": "overlay",
              "size": 10,
              "solidity": 0.2
             }
            },
            "type": "barpolar"
           }
          ],
          "carpet": [
           {
            "aaxis": {
             "endlinecolor": "#2a3f5f",
             "gridcolor": "white",
             "linecolor": "white",
             "minorgridcolor": "white",
             "startlinecolor": "#2a3f5f"
            },
            "baxis": {
             "endlinecolor": "#2a3f5f",
             "gridcolor": "white",
             "linecolor": "white",
             "minorgridcolor": "white",
             "startlinecolor": "#2a3f5f"
            },
            "type": "carpet"
           }
          ],
          "choropleth": [
           {
            "colorbar": {
             "outlinewidth": 0,
             "ticks": ""
            },
            "type": "choropleth"
           }
          ],
          "contour": [
           {
            "colorbar": {
             "outlinewidth": 0,
             "ticks": ""
            },
            "colorscale": [
             [
              0,
              "#0d0887"
             ],
             [
              0.1111111111111111,
              "#46039f"
             ],
             [
              0.2222222222222222,
              "#7201a8"
             ],
             [
              0.3333333333333333,
              "#9c179e"
             ],
             [
              0.4444444444444444,
              "#bd3786"
             ],
             [
              0.5555555555555556,
              "#d8576b"
             ],
             [
              0.6666666666666666,
              "#ed7953"
             ],
             [
              0.7777777777777778,
              "#fb9f3a"
             ],
             [
              0.8888888888888888,
              "#fdca26"
             ],
             [
              1,
              "#f0f921"
             ]
            ],
            "type": "contour"
           }
          ],
          "contourcarpet": [
           {
            "colorbar": {
             "outlinewidth": 0,
             "ticks": ""
            },
            "type": "contourcarpet"
           }
          ],
          "heatmap": [
           {
            "colorbar": {
             "outlinewidth": 0,
             "ticks": ""
            },
            "colorscale": [
             [
              0,
              "#0d0887"
             ],
             [
              0.1111111111111111,
              "#46039f"
             ],
             [
              0.2222222222222222,
              "#7201a8"
             ],
             [
              0.3333333333333333,
              "#9c179e"
             ],
             [
              0.4444444444444444,
              "#bd3786"
             ],
             [
              0.5555555555555556,
              "#d8576b"
             ],
             [
              0.6666666666666666,
              "#ed7953"
             ],
             [
              0.7777777777777778,
              "#fb9f3a"
             ],
             [
              0.8888888888888888,
              "#fdca26"
             ],
             [
              1,
              "#f0f921"
             ]
            ],
            "type": "heatmap"
           }
          ],
          "histogram": [
           {
            "marker": {
             "pattern": {
              "fillmode": "overlay",
              "size": 10,
              "solidity": 0.2
             }
            },
            "type": "histogram"
           }
          ],
          "histogram2d": [
           {
            "colorbar": {
             "outlinewidth": 0,
             "ticks": ""
            },
            "colorscale": [
             [
              0,
              "#0d0887"
             ],
             [
              0.1111111111111111,
              "#46039f"
             ],
             [
              0.2222222222222222,
              "#7201a8"
             ],
             [
              0.3333333333333333,
              "#9c179e"
             ],
             [
              0.4444444444444444,
              "#bd3786"
             ],
             [
              0.5555555555555556,
              "#d8576b"
             ],
             [
              0.6666666666666666,
              "#ed7953"
             ],
             [
              0.7777777777777778,
              "#fb9f3a"
             ],
             [
              0.8888888888888888,
              "#fdca26"
             ],
             [
              1,
              "#f0f921"
             ]
            ],
            "type": "histogram2d"
           }
          ],
          "histogram2dcontour": [
           {
            "colorbar": {
             "outlinewidth": 0,
             "ticks": ""
            },
            "colorscale": [
             [
              0,
              "#0d0887"
             ],
             [
              0.1111111111111111,
              "#46039f"
             ],
             [
              0.2222222222222222,
              "#7201a8"
             ],
             [
              0.3333333333333333,
              "#9c179e"
             ],
             [
              0.4444444444444444,
              "#bd3786"
             ],
             [
              0.5555555555555556,
              "#d8576b"
             ],
             [
              0.6666666666666666,
              "#ed7953"
             ],
             [
              0.7777777777777778,
              "#fb9f3a"
             ],
             [
              0.8888888888888888,
              "#fdca26"
             ],
             [
              1,
              "#f0f921"
             ]
            ],
            "type": "histogram2dcontour"
           }
          ],
          "mesh3d": [
           {
            "colorbar": {
             "outlinewidth": 0,
             "ticks": ""
            },
            "type": "mesh3d"
           }
          ],
          "parcoords": [
           {
            "line": {
             "colorbar": {
              "outlinewidth": 0,
              "ticks": ""
             }
            },
            "type": "parcoords"
           }
          ],
          "pie": [
           {
            "automargin": true,
            "type": "pie"
           }
          ],
          "scatter": [
           {
            "fillpattern": {
             "fillmode": "overlay",
             "size": 10,
             "solidity": 0.2
            },
            "type": "scatter"
           }
          ],
          "scatter3d": [
           {
            "line": {
             "colorbar": {
              "outlinewidth": 0,
              "ticks": ""
             }
            },
            "marker": {
             "colorbar": {
              "outlinewidth": 0,
              "ticks": ""
             }
            },
            "type": "scatter3d"
           }
          ],
          "scattercarpet": [
           {
            "marker": {
             "colorbar": {
              "outlinewidth": 0,
              "ticks": ""
             }
            },
            "type": "scattercarpet"
           }
          ],
          "scattergeo": [
           {
            "marker": {
             "colorbar": {
              "outlinewidth": 0,
              "ticks": ""
             }
            },
            "type": "scattergeo"
           }
          ],
          "scattergl": [
           {
            "marker": {
             "colorbar": {
              "outlinewidth": 0,
              "ticks": ""
             }
            },
            "type": "scattergl"
           }
          ],
          "scattermap": [
           {
            "marker": {
             "colorbar": {
              "outlinewidth": 0,
              "ticks": ""
             }
            },
            "type": "scattermap"
           }
          ],
          "scattermapbox": [
           {
            "marker": {
             "colorbar": {
              "outlinewidth": 0,
              "ticks": ""
             }
            },
            "type": "scattermapbox"
           }
          ],
          "scatterpolar": [
           {
            "marker": {
             "colorbar": {
              "outlinewidth": 0,
              "ticks": ""
             }
            },
            "type": "scatterpolar"
           }
          ],
          "scatterpolargl": [
           {
            "marker": {
             "colorbar": {
              "outlinewidth": 0,
              "ticks": ""
             }
            },
            "type": "scatterpolargl"
           }
          ],
          "scatterternary": [
           {
            "marker": {
             "colorbar": {
              "outlinewidth": 0,
              "ticks": ""
             }
            },
            "type": "scatterternary"
           }
          ],
          "surface": [
           {
            "colorbar": {
             "outlinewidth": 0,
             "ticks": ""
            },
            "colorscale": [
             [
              0,
              "#0d0887"
             ],
             [
              0.1111111111111111,
              "#46039f"
             ],
             [
              0.2222222222222222,
              "#7201a8"
             ],
             [
              0.3333333333333333,
              "#9c179e"
             ],
             [
              0.4444444444444444,
              "#bd3786"
             ],
             [
              0.5555555555555556,
              "#d8576b"
             ],
             [
              0.6666666666666666,
              "#ed7953"
             ],
             [
              0.7777777777777778,
              "#fb9f3a"
             ],
             [
              0.8888888888888888,
              "#fdca26"
             ],
             [
              1,
              "#f0f921"
             ]
            ],
            "type": "surface"
           }
          ],
          "table": [
           {
            "cells": {
             "fill": {
              "color": "#EBF0F8"
             },
             "line": {
              "color": "white"
             }
            },
            "header": {
             "fill": {
              "color": "#C8D4E3"
             },
             "line": {
              "color": "white"
             }
            },
            "type": "table"
           }
          ]
         },
         "layout": {
          "annotationdefaults": {
           "arrowcolor": "#2a3f5f",
           "arrowhead": 0,
           "arrowwidth": 1
          },
          "autotypenumbers": "strict",
          "coloraxis": {
           "colorbar": {
            "outlinewidth": 0,
            "ticks": ""
           }
          },
          "colorscale": {
           "diverging": [
            [
             0,
             "#8e0152"
            ],
            [
             0.1,
             "#c51b7d"
            ],
            [
             0.2,
             "#de77ae"
            ],
            [
             0.3,
             "#f1b6da"
            ],
            [
             0.4,
             "#fde0ef"
            ],
            [
             0.5,
             "#f7f7f7"
            ],
            [
             0.6,
             "#e6f5d0"
            ],
            [
             0.7,
             "#b8e186"
            ],
            [
             0.8,
             "#7fbc41"
            ],
            [
             0.9,
             "#4d9221"
            ],
            [
             1,
             "#276419"
            ]
           ],
           "sequential": [
            [
             0,
             "#0d0887"
            ],
            [
             0.1111111111111111,
             "#46039f"
            ],
            [
             0.2222222222222222,
             "#7201a8"
            ],
            [
             0.3333333333333333,
             "#9c179e"
            ],
            [
             0.4444444444444444,
             "#bd3786"
            ],
            [
             0.5555555555555556,
             "#d8576b"
            ],
            [
             0.6666666666666666,
             "#ed7953"
            ],
            [
             0.7777777777777778,
             "#fb9f3a"
            ],
            [
             0.8888888888888888,
             "#fdca26"
            ],
            [
             1,
             "#f0f921"
            ]
           ],
           "sequentialminus": [
            [
             0,
             "#0d0887"
            ],
            [
             0.1111111111111111,
             "#46039f"
            ],
            [
             0.2222222222222222,
             "#7201a8"
            ],
            [
             0.3333333333333333,
             "#9c179e"
            ],
            [
             0.4444444444444444,
             "#bd3786"
            ],
            [
             0.5555555555555556,
             "#d8576b"
            ],
            [
             0.6666666666666666,
             "#ed7953"
            ],
            [
             0.7777777777777778,
             "#fb9f3a"
            ],
            [
             0.8888888888888888,
             "#fdca26"
            ],
            [
             1,
             "#f0f921"
            ]
           ]
          },
          "colorway": [
           "#636efa",
           "#EF553B",
           "#00cc96",
           "#ab63fa",
           "#FFA15A",
           "#19d3f3",
           "#FF6692",
           "#B6E880",
           "#FF97FF",
           "#FECB52"
          ],
          "font": {
           "color": "#2a3f5f"
          },
          "geo": {
           "bgcolor": "white",
           "lakecolor": "white",
           "landcolor": "#E5ECF6",
           "showlakes": true,
           "showland": true,
           "subunitcolor": "white"
          },
          "hoverlabel": {
           "align": "left"
          },
          "hovermode": "closest",
          "mapbox": {
           "style": "light"
          },
          "paper_bgcolor": "white",
          "plot_bgcolor": "#E5ECF6",
          "polar": {
           "angularaxis": {
            "gridcolor": "white",
            "linecolor": "white",
            "ticks": ""
           },
           "bgcolor": "#E5ECF6",
           "radialaxis": {
            "gridcolor": "white",
            "linecolor": "white",
            "ticks": ""
           }
          },
          "scene": {
           "xaxis": {
            "backgroundcolor": "#E5ECF6",
            "gridcolor": "white",
            "gridwidth": 2,
            "linecolor": "white",
            "showbackground": true,
            "ticks": "",
            "zerolinecolor": "white"
           },
           "yaxis": {
            "backgroundcolor": "#E5ECF6",
            "gridcolor": "white",
            "gridwidth": 2,
            "linecolor": "white",
            "showbackground": true,
            "ticks": "",
            "zerolinecolor": "white"
           },
           "zaxis": {
            "backgroundcolor": "#E5ECF6",
            "gridcolor": "white",
            "gridwidth": 2,
            "linecolor": "white",
            "showbackground": true,
            "ticks": "",
            "zerolinecolor": "white"
           }
          },
          "shapedefaults": {
           "line": {
            "color": "#2a3f5f"
           }
          },
          "ternary": {
           "aaxis": {
            "gridcolor": "white",
            "linecolor": "white",
            "ticks": ""
           },
           "baxis": {
            "gridcolor": "white",
            "linecolor": "white",
            "ticks": ""
           },
           "bgcolor": "#E5ECF6",
           "caxis": {
            "gridcolor": "white",
            "linecolor": "white",
            "ticks": ""
           }
          },
          "title": {
           "x": 0.05
          },
          "xaxis": {
           "automargin": true,
           "gridcolor": "white",
           "linecolor": "white",
           "ticks": "",
           "title": {
            "standoff": 15
           },
           "zerolinecolor": "white",
           "zerolinewidth": 2
          },
          "yaxis": {
           "automargin": true,
           "gridcolor": "white",
           "linecolor": "white",
           "ticks": "",
           "title": {
            "standoff": 15
           },
           "zerolinecolor": "white",
           "zerolinewidth": 2
          }
         }
        },
        "title": {
         "text": "Correlation Heatmap of Evaluation Metrics"
        },
        "width": 600,
        "xaxis": {
         "dtick": 1,
         "gridcolor": "rgb(0, 0, 0)",
         "side": "top",
         "ticks": ""
        },
        "yaxis": {
         "dtick": 1,
         "ticks": "",
         "ticksuffix": "  "
        }
       }
      }
     },
     "metadata": {},
     "output_type": "display_data"
    }
   ],
   "source": [
    "import plotly.figure_factory as ff\n",
    "\n",
    "# Select relevant columns\n",
    "metrics = [\n",
    "    'evaluation_factual_correctness_score',\n",
    "    'evaluation_completeness_score',\n",
    "    'evaluation_clarity_score',\n",
    "    'overall_score'\n",
    "]\n",
    "\n",
    "# Calculate correlation matrix\n",
    "corr_matrix = df[metrics].corr().round(2)\n",
    "\n",
    "# Create heatmap\n",
    "fig = ff.create_annotated_heatmap(\n",
    "    z=corr_matrix.values,\n",
    "    x=corr_matrix.columns.tolist(),\n",
    "    y=corr_matrix.index.tolist(),\n",
    "    annotation_text=corr_matrix.values,\n",
    "    colorscale='Blues',\n",
    "    showscale=True\n",
    ")\n",
    "\n",
    "fig.update_layout(\n",
    "    title='Correlation Heatmap of Evaluation Metrics',\n",
    "    width=600,\n",
    "    height=600\n",
    ")\n",
    "\n",
    "fig.show()\n"
   ]
  },
  {
   "cell_type": "code",
   "execution_count": 20,
   "id": "aeea2707-43b2-4c08-a5aa-9475f163d0f9",
   "metadata": {},
   "outputs": [
    {
     "name": "stdout",
     "output_type": "stream",
     "text": [
      "Worst Answer by Overall Score: 2.6666666666666665\n",
      "Question: Based on Netflix, Inc.'s fiscal year ended December 31, 2024, how did the company's stock repurchase authorizations and activities evolve during 2023 and 2024, and what is the remaining authorization amount as of December 31, 2024?\n",
      "Reasons: The answer contains significant factual inaccuracies and unsupported details compared to the document chunk. The official document states that in September 2023, Netflix authorized $10 billion for repurchases and in December 2024 increased authorization by an additional $15 billion, with $17.1 billion remaining as of December 31, 2024, not $15 billion total or approximately $1.8 billion remaining. The answer incorrectly references a $5 billion authorization in 2021 and uses the $15 billion figure inaccurately. The repurchase amount in 2024 stated in the chunk is $6.211 billion, not $13.2 billion. Thus, the model answer’s figures and timeline are mostly incorrect. It partially responds to the question but misses key correct numbers and confuses authorizations and repurchases. The phrasing is mostly clear but somewhat verbose and contains unnecessary details not supported by the chunk.\n"
     ]
    }
   ],
   "source": [
    "#Worst answer by overall\n",
    "worst_answer = df.loc[df['overall_score'].idxmin()]\n",
    "print(f\"Worst Answer by Overall Score: {df['overall_score'].min()}\")\n",
    "print(f\"Question: {worst_answer['question']}\")\n",
    "# print(f\"Answer: {worst_answer['answer']}\")\n",
    "print(f\"Reasons: {worst_answer['evaluation_comments']}\")  "
   ]
  },
  {
   "cell_type": "code",
   "execution_count": null,
   "id": "4c7d6f6d",
   "metadata": {},
   "outputs": [],
   "source": []
  }
 ],
 "metadata": {
  "kernelspec": {
   "display_name": "Python (myenv)",
   "language": "python",
   "name": "myenv"
  },
  "language_info": {
   "codemirror_mode": {
    "name": "ipython",
    "version": 3
   },
   "file_extension": ".py",
   "mimetype": "text/x-python",
   "name": "python",
   "nbconvert_exporter": "python",
   "pygments_lexer": "ipython3",
   "version": "3.12.3"
  }
 },
 "nbformat": 4,
 "nbformat_minor": 5
}
