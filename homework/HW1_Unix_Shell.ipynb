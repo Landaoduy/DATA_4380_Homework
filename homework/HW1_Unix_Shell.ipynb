{
 "cells": [
  {
   "cell_type": "markdown",
   "id": "fa9a2aeb",
   "metadata": {},
   "source": [
    "### **Task 1**"
   ]
  },
  {
   "cell_type": "code",
   "execution_count": null,
   "id": "3271db69",
   "metadata": {},
   "outputs": [],
   "source": [
    "cd ~/DATA_4380_Homework/datasets\n",
    "mkdir original_zips\n",
    "mv */*.zip original_zips/"
   ]
  },
  {
   "cell_type": "markdown",
   "id": "4cbac293",
   "metadata": {},
   "source": [
    "### **Task 2**"
   ]
  },
  {
   "cell_type": "code",
   "execution_count": null,
   "id": "b81436b6",
   "metadata": {},
   "outputs": [],
   "source": [
    "cd ~/DATA_4380_Homework/datasets/diabetes\n",
    "\n",
    "# Get header\n",
    "head -n 1 diabetes_prediction_datasets.csv > diabetes_part1.csv\n",
    "cp diabetes_part1.csv diabetes_part2.csv\n",
    "cp diabetes_part1.csv diabetes_part3.csv \n",
    "\n",
    "# Count total line (minus header)\n",
    "wc -l diabetes_prediction_dataset.csv\n",
    "\n",
    "# Part 1\n",
    "tail -n +2 diabetes_prediction_dataset.csv | head -n 33333 >> diabetes_part1.csv\n",
    "\n",
    "# Part 2\n",
    "tail -n +33335 diabetes_prediction_dataset.csv | head -n 33333 >> diabetes_part2.csv\n",
    "\n",
    "# Part 3\n",
    "tail -n +66668 diabetes_prediction_dataset.csv >> diabetes_part3.csv"
   ]
  },
  {
   "cell_type": "markdown",
   "id": "d8575181",
   "metadata": {},
   "source": [
    "### **Task 3**"
   ]
  },
  {
   "cell_type": "code",
   "execution_count": null,
   "id": "9c1e84eb",
   "metadata": {},
   "outputs": [],
   "source": [
    "cd ~/DATA_4380_Homework/datasets/heart_disease\n",
    "\n",
    "# Create headers\n",
    "head -n 1 Heart_Disease_Prediction.csv > presence.csv\n",
    "head -n 1 Heart_Disease_Prediction.csv > absence.csv\n",
    "\n",
    "# Append rows\n",
    "grep \"Presence\" Heart_Disease_Prediction.csv >> presence.csv\n",
    "grep \"Absence\" Heart_Disease_Prediction.csv >> absence.csv"
   ]
  },
  {
   "cell_type": "markdown",
   "id": "1d4b42b2",
   "metadata": {},
   "source": [
    "### **Task 4**"
   ]
  },
  {
   "cell_type": "code",
   "execution_count": null,
   "id": "e13631f2",
   "metadata": {},
   "outputs": [],
   "source": [
    "cd ~/DATA_4380_Homework/datasets/used_car_prices\n",
    "\n",
    "grep -i \"no accidents\" car_web_scraped_dataset.csv | wc -l\n",
    "\n",
    "tail -n +2 car_web_scraped_dataset.csv | wc -l\n",
    "\n",
    "echo \"2230 / 2840\" | bc -l"
   ]
  },
  {
   "cell_type": "markdown",
   "id": "5734ee99",
   "metadata": {},
   "source": [
    "### **Task 5**"
   ]
  },
  {
   "cell_type": "code",
   "execution_count": null,
   "id": "a67167ad",
   "metadata": {},
   "outputs": [],
   "source": [
    "cd ~/DATA_4380_Homework/datasets/housing_prices\n",
    "\n",
    "sed 's/,yes/,1/g; s/,no/,0/g; s/,unfurnished/,0/g; s/,semi-furnished/,2/g; s/,furnished/,1/g' Housing.csv > Housing_cleaned.csv"
   ]
  },
  {
   "cell_type": "markdown",
   "id": "bc867bde",
   "metadata": {},
   "source": [
    "### **Task 6**"
   ]
  },
  {
   "cell_type": "code",
   "execution_count": null,
   "id": "6fb0bd59",
   "metadata": {},
   "outputs": [],
   "source": [
    "cd ~/DATA_4380_Homework/datasets/mall_customers\n",
    "\n",
    "# Remove column CustomerID \n",
    "cut -d ',' -f2- Mall_Customers.csv > Mall_Customers_noID.csv"
   ]
  },
  {
   "cell_type": "markdown",
   "id": "81b72eb6",
   "metadata": {},
   "source": [
    "### **Task 7**"
   ]
  },
  {
   "cell_type": "code",
   "execution_count": null,
   "id": "796ed430",
   "metadata": {},
   "outputs": [],
   "source": [
    "cd ~/DATA_4380_Homework/datasets/university_rankings\n",
    "\n",
    "head -n 1 university_rankings.csv\n",
    "\n",
    "tail -n +2 university_rankings.csv | cut -d',' -f5,6,7,8 | tr ',' '+' | bc > university_scores_sum.csv"
   ]
  },
  {
   "cell_type": "markdown",
   "id": "30d17c09",
   "metadata": {},
   "source": [
    "### **Task 8**"
   ]
  },
  {
   "cell_type": "code",
   "execution_count": null,
   "id": "a43f2119",
   "metadata": {},
   "outputs": [],
   "source": [
    "cd ~/DATA_4380_Homework/datasets/cancer_patients\n",
    "\n",
    "# Get header to new csv\n",
    "head -n 1 \"cancer_patients.csv\" > cancer_sorted.csv \n",
    "\n",
    "# Sort the age \n",
    "tail -n +2 \"cancer_patients.csv\" | sort -t',' -k3,3n >> cancer_sorted.csv"
   ]
  }
 ],
 "metadata": {
  "kernelspec": {
   "display_name": "Python 3 (ipykernel)",
   "language": "python",
   "name": "python3"
  },
  "language_info": {
   "codemirror_mode": {
    "name": "ipython",
    "version": 3
   },
   "file_extension": ".py",
   "mimetype": "text/x-python",
   "name": "python",
   "nbconvert_exporter": "python",
   "pygments_lexer": "ipython3",
   "version": "3.12.3"
  }
 },
 "nbformat": 4,
 "nbformat_minor": 5
}
